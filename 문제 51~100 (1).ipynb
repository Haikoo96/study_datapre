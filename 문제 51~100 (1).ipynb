{
 "cells": [
  {
   "cell_type": "markdown",
   "id": "d26eee81-35f8-4386-9619-d091d4b9cc74",
   "metadata": {},
   "source": [
    "## 문제 51~60"
   ]
  },
  {
   "cell_type": "code",
   "execution_count": 1,
   "id": "372b019e-d929-4692-b1ed-306ae9c1fcce",
   "metadata": {},
   "outputs": [],
   "source": [
    "# 51\n",
    "import pandas as pd"
   ]
  },
  {
   "cell_type": "code",
   "execution_count": 2,
   "id": "07363207-07e6-4b2a-a303-e812c76def9c",
   "metadata": {},
   "outputs": [
    {
     "data": {
      "text/plain": [
       "점수    [100, 200, 300]\n",
       "dtype: object"
      ]
     },
     "execution_count": 2,
     "metadata": {},
     "output_type": "execute_result"
    }
   ],
   "source": [
    "# 52\n",
    "dict = {'점수': [100, 200, 300]}\n",
    "pd.Series(dict)"
   ]
  },
  {
   "cell_type": "code",
   "execution_count": 4,
   "id": "9ced77dd-23f1-44f8-8390-72bf7d8b82ae",
   "metadata": {},
   "outputs": [
    {
     "name": "stdout",
     "output_type": "stream",
     "text": [
      "0    100\n",
      "1    200\n",
      "2    300\n",
      "dtype: int64\n"
     ]
    }
   ],
   "source": [
    "# 52 answer\n",
    "data = [100, 200, 300]\n",
    "s = pd.Series(data)\n",
    "print(s)"
   ]
  },
  {
   "cell_type": "code",
   "execution_count": 6,
   "id": "e38097a1-d7c5-47da-a885-6c200e7cb4d9",
   "metadata": {},
   "outputs": [
    {
     "ename": "TypeError",
     "evalue": "'RangeIndex' object is not callable",
     "output_type": "error",
     "traceback": [
      "\u001b[1;31m---------------------------------------------------------------------------\u001b[0m",
      "\u001b[1;31mTypeError\u001b[0m                                 Traceback (most recent call last)",
      "Cell \u001b[1;32mIn[6], line 3\u001b[0m\n\u001b[0;32m      1\u001b[0m \u001b[38;5;66;03m# 53\u001b[39;00m\n\u001b[0;32m      2\u001b[0m name \u001b[38;5;241m=\u001b[39m [\u001b[38;5;124m'\u001b[39m\u001b[38;5;124mAlex\u001b[39m\u001b[38;5;124m'\u001b[39m, \u001b[38;5;124m'\u001b[39m\u001b[38;5;124mJosh\u001b[39m\u001b[38;5;124m'\u001b[39m, \u001b[38;5;124m'\u001b[39m\u001b[38;5;124mRhianna\u001b[39m\u001b[38;5;124m'\u001b[39m]\n\u001b[1;32m----> 3\u001b[0m \u001b[43ms\u001b[49m\u001b[38;5;241;43m.\u001b[39;49m\u001b[43mindex\u001b[49m\u001b[43m(\u001b[49m\u001b[43mname\u001b[49m\u001b[43m)\u001b[49m\n",
      "\u001b[1;31mTypeError\u001b[0m: 'RangeIndex' object is not callable"
     ]
    }
   ],
   "source": [
    "# 53\n",
    "name = ['Alex', 'Josh', 'Rhianna']\n",
    "s.index(name)"
   ]
  },
  {
   "cell_type": "code",
   "execution_count": 8,
   "id": "1ef371ac-3dc0-4031-b39f-f1064ea8a108",
   "metadata": {},
   "outputs": [
    {
     "name": "stdout",
     "output_type": "stream",
     "text": [
      "철수    100\n",
      "영희    200\n",
      "아름    300\n",
      "dtype: int64\n"
     ]
    }
   ],
   "source": [
    "# 53 answer\n",
    "data = [100, 200, 300]\n",
    "index = [\"철수\", \"영희\", \"아름\"]\n",
    "s =pd.Series(data, index)\n",
    "print(s)"
   ]
  },
  {
   "cell_type": "code",
   "execution_count": 9,
   "id": "9202ca03-da43-4608-b326-972b5c95b3fb",
   "metadata": {},
   "outputs": [
    {
     "data": {
      "text/plain": [
       "Alex       100\n",
       "Josh       200\n",
       "Rhianna    300\n",
       "dtype: int64"
      ]
     },
     "execution_count": 9,
     "metadata": {},
     "output_type": "execute_result"
    }
   ],
   "source": [
    "# 54\n",
    "dict_series = {'score': [100, 200, 300],\n",
    "               'index': ['Alex', 'Josh', 'Rhianna']\n",
    "              }\n",
    "test_scores = pd.Series(dict_series['score'], dict_series['index'])\n",
    "test_scores"
   ]
  },
  {
   "cell_type": "code",
   "execution_count": 12,
   "id": "ea0f3073-1287-4b70-98af-10f4cf08b7be",
   "metadata": {},
   "outputs": [
    {
     "data": {
      "text/plain": [
       "철수    100\n",
       "영희    200\n",
       "아름    300\n",
       "dtype: int64"
      ]
     },
     "execution_count": 12,
     "metadata": {},
     "output_type": "execute_result"
    }
   ],
   "source": [
    "# 54 answer\n",
    "score = {\n",
    "    \"철수\": 100,\n",
    "    \"영희\": 200,\n",
    "    \"아름\": 300\n",
    "}\n",
    "\n",
    "s = pd.Series(score)\n",
    "s"
   ]
  },
  {
   "cell_type": "code",
   "execution_count": 14,
   "id": "b9c99f0f-84cf-4aa3-99bd-4b71c2cc08ae",
   "metadata": {},
   "outputs": [
    {
     "data": {
      "text/plain": [
       "Samsung               73000\n",
       "Celltrion            356000\n",
       "Kakao                367000\n",
       "Samsung_preferred     68600\n",
       "Hyundai Bio           34150\n",
       "dtype: int64"
      ]
     },
     "execution_count": 14,
     "metadata": {},
     "output_type": "execute_result"
    }
   ],
   "source": [
    "# 55\n",
    "dict_stocks = {'Samsung': 73000,\n",
    "               'Celltrion': 356000,\n",
    "               'Kakao': 367000,\n",
    "               'Samsung_preferred': 68600,\n",
    "               'Hyundai Bio': 34150\n",
    "              }\n",
    "stock_price = pd.Series(dict_stocks)\n",
    "stock_price"
   ]
  },
  {
   "cell_type": "code",
   "execution_count": 15,
   "id": "5e9816f7-1cd8-42aa-881f-b2adbc4a2271",
   "metadata": {},
   "outputs": [
    {
     "data": {
      "text/plain": [
       "Index(['Samsung', 'Celltrion', 'Kakao', 'Samsung_preferred', 'Hyundai Bio'], dtype='object')"
      ]
     },
     "execution_count": 15,
     "metadata": {},
     "output_type": "execute_result"
    }
   ],
   "source": [
    "# 56\n",
    "stock_price.index"
   ]
  },
  {
   "cell_type": "code",
   "execution_count": 17,
   "id": "cedb31dd-30bb-427b-8869-17f41d2672a3",
   "metadata": {},
   "outputs": [
    {
     "data": {
      "text/plain": [
       "array([ 73000, 356000, 367000,  68600,  34150], dtype=int64)"
      ]
     },
     "execution_count": 17,
     "metadata": {},
     "output_type": "execute_result"
    }
   ],
   "source": [
    "# 57\n",
    "stock_price.values"
   ]
  },
  {
   "cell_type": "code",
   "execution_count": 18,
   "id": "a1d2d80a-8e19-492a-a4ae-d62043b21e44",
   "metadata": {},
   "outputs": [
    {
     "data": {
      "text/plain": [
       "{'Samsung': 73000,\n",
       " 'Celltrion': 356000,\n",
       " 'Kakao': 367000,\n",
       " 'Samsung_preferred': 68600,\n",
       " 'Hyundai Bio': 34150}"
      ]
     },
     "execution_count": 18,
     "metadata": {},
     "output_type": "execute_result"
    }
   ],
   "source": [
    "# 58\n",
    "stock_price.to_dict()"
   ]
  },
  {
   "cell_type": "code",
   "execution_count": 19,
   "id": "8906fa47-762f-400f-a526-0082c2d33970",
   "metadata": {},
   "outputs": [],
   "source": [
    "# 59\n",
    "# 스킵...."
   ]
  },
  {
   "cell_type": "code",
   "execution_count": 20,
   "id": "3ee33a8b-4b46-4d25-8d1f-c0f9efb9f305",
   "metadata": {},
   "outputs": [],
   "source": [
    "# 60\n",
    "# 스킵"
   ]
  },
  {
   "cell_type": "markdown",
   "id": "b590f1e0-9a6c-4692-9b91-b77f79ec230e",
   "metadata": {},
   "source": [
    "## 문제 61~70"
   ]
  },
  {
   "cell_type": "code",
   "execution_count": 21,
   "id": "3a58eb82-c57c-4a14-b66c-4c9061fd2b2b",
   "metadata": {},
   "outputs": [
    {
     "data": {
      "text/plain": [
       "dtype('int64')"
      ]
     },
     "execution_count": 21,
     "metadata": {},
     "output_type": "execute_result"
    }
   ],
   "source": [
    "# 61\n",
    "stock_price.dtype"
   ]
  },
  {
   "cell_type": "code",
   "execution_count": 22,
   "id": "4040b2e8-1244-4e9e-b192-6f3c7a324755",
   "metadata": {},
   "outputs": [],
   "source": [
    "# 62 skip"
   ]
  },
  {
   "cell_type": "code",
   "execution_count": 23,
   "id": "b202954e-80f0-4705-a491-3935ef3c1ea0",
   "metadata": {},
   "outputs": [
    {
     "data": {
      "text/plain": [
       "dtype('O')"
      ]
     },
     "execution_count": 23,
     "metadata": {},
     "output_type": "execute_result"
    }
   ],
   "source": [
    "# 63\n",
    "stock_price.index.dtype"
   ]
  },
  {
   "cell_type": "code",
   "execution_count": 24,
   "id": "844457e3-1b23-4d3f-a59d-dec0534b028d",
   "metadata": {},
   "outputs": [
    {
     "data": {
      "text/plain": [
       "company\n",
       "Samsung               73000\n",
       "Celltrion            356000\n",
       "Kakao                367000\n",
       "Samsung_preferred     68600\n",
       "Hyundai Bio           34150\n",
       "Name: stock price, dtype: int64"
      ]
     },
     "execution_count": 24,
     "metadata": {},
     "output_type": "execute_result"
    }
   ],
   "source": [
    "# 64\n",
    "stock_price.name = 'stock price'\n",
    "stock_price.index.name = 'company'\n",
    "stock_price"
   ]
  },
  {
   "cell_type": "code",
   "execution_count": 26,
   "id": "c2fb22a0-4e97-437a-b834-8b1d6cf962f5",
   "metadata": {},
   "outputs": [
    {
     "data": {
      "text/plain": [
       "날짜\n",
       "2020-12-11    73400\n",
       "2020-12-10    72900\n",
       "2020-12-09    73900\n",
       "2020-12-08    71700\n",
       "2020-12-07    72900\n",
       "Name: 종가, dtype: int64"
      ]
     },
     "execution_count": 26,
     "metadata": {},
     "output_type": "execute_result"
    }
   ],
   "source": [
    "# 64 answer\n",
    "data = {\n",
    "    \"2020-12-11\": 73400,\n",
    "    \"2020-12-10\": 72900,\n",
    "    \"2020-12-09\": 73900,\n",
    "    \"2020-12-08\": 71700,\n",
    "    \"2020-12-07\": 72900\n",
    "}\n",
    "\n",
    "s = pd.Series(data)\n",
    "s.name = \"종가\"\n",
    "s.index.name = \"날짜\"\n",
    "s"
   ]
  },
  {
   "cell_type": "code",
   "execution_count": 28,
   "id": "0bb308e4-19ed-40ef-ba37-824314117268",
   "metadata": {},
   "outputs": [
    {
     "data": {
      "text/plain": [
       "{'apple': 1500, 'banana': 3000}"
      ]
     },
     "execution_count": 28,
     "metadata": {},
     "output_type": "execute_result"
    }
   ],
   "source": [
    "# 65\n",
    "data = {\"apple\": 1500, \"banana\": 3000}\n",
    "s = pd.Series(data)\n",
    "s.to_dict()\n"
   ]
  },
  {
   "cell_type": "code",
   "execution_count": 30,
   "id": "fb98d27b-15d7-4328-93c9-9d0fcdd736c0",
   "metadata": {},
   "outputs": [],
   "source": [
    "# 66\n",
    "s.index.name = 'icecream'"
   ]
  },
  {
   "cell_type": "code",
   "execution_count": 31,
   "id": "470207b7-7c33-44b4-a4ba-39fc086c8649",
   "metadata": {},
   "outputs": [
    {
     "data": {
      "text/plain": [
       "0    1\n",
       "1    2\n",
       "2    3\n",
       "Name: number, dtype: int64"
      ]
     },
     "execution_count": 31,
     "metadata": {},
     "output_type": "execute_result"
    }
   ],
   "source": [
    "# 67\n",
    "s = pd.Series(data=[1,2,3])\n",
    "s.name = 'number'\n",
    "s"
   ]
  },
  {
   "cell_type": "code",
   "execution_count": 35,
   "id": "b698aa14-d5e2-4fa3-bc25-48d9e6d6248b",
   "metadata": {},
   "outputs": [
    {
     "data": {
      "text/plain": [
       "0    1.0\n",
       "1    2.0\n",
       "2    NaN\n",
       "dtype: float64"
      ]
     },
     "execution_count": 35,
     "metadata": {},
     "output_type": "execute_result"
    }
   ],
   "source": [
    "# 68\n",
    "import numpy as np\n",
    "data = [1, 2, np.nan]\n",
    "np.array(data).astype('float64')\n",
    "s = pd.Series(data)\n",
    "s"
   ]
  },
  {
   "cell_type": "code",
   "execution_count": 37,
   "id": "cdcf19d5-8e3d-44df-909d-ddf21ea2fbd8",
   "metadata": {},
   "outputs": [
    {
     "data": {
      "text/plain": [
       "array([0, 1, 2], dtype=int64)"
      ]
     },
     "execution_count": 37,
     "metadata": {},
     "output_type": "execute_result"
    }
   ],
   "source": [
    "# 69\n",
    "a = pd.Series([1, 2, 3])\n",
    "a.index.to_numpy()"
   ]
  },
  {
   "cell_type": "code",
   "execution_count": 41,
   "id": "f3fd21c5-8b3a-4897-8ba8-31d2fd24350b",
   "metadata": {},
   "outputs": [
    {
     "data": {
      "text/plain": [
       "<NumpyExtensionArray>\n",
       "[1, 2, 3]\n",
       "Length: 3, dtype: int64"
      ]
     },
     "execution_count": 41,
     "metadata": {},
     "output_type": "execute_result"
    }
   ],
   "source": [
    "# 70\n",
    "s = pd.Series([1, 2, 3]).array\n",
    "s"
   ]
  },
  {
   "cell_type": "markdown",
   "id": "ec85e001-06d0-45fc-ad05-5182981ba213",
   "metadata": {},
   "source": [
    "## 문제 71~80"
   ]
  },
  {
   "cell_type": "code",
   "execution_count": 42,
   "id": "2e55bf9b-c9d4-4ff6-8b06-2a1935f9bdb5",
   "metadata": {},
   "outputs": [
    {
     "name": "stdout",
     "output_type": "stream",
     "text": [
      "object\n"
     ]
    }
   ],
   "source": [
    "# 71\n",
    "s = pd.Series([1, 2, 'python'])\n",
    "print(s.dtype)"
   ]
  },
  {
   "cell_type": "code",
   "execution_count": 43,
   "id": "12d1b170-3290-4512-9156-9392890fa1b2",
   "metadata": {},
   "outputs": [
    {
     "data": {
      "text/plain": [
       "0    1\n",
       "1    2\n",
       "2    3\n",
       "dtype: int32"
      ]
     },
     "execution_count": 43,
     "metadata": {},
     "output_type": "execute_result"
    }
   ],
   "source": [
    "# 72\n",
    "s = pd.Series(['1', '2', '3'])\n",
    "s.astype('int32')"
   ]
  },
  {
   "cell_type": "code",
   "execution_count": 45,
   "id": "cfac34e7-59d9-44c7-83d1-514a12479de9",
   "metadata": {},
   "outputs": [
    {
     "data": {
      "text/plain": [
       "BTC    50000.0\n",
       "XRP        1.0\n",
       "ETH     4000.0\n",
       "dtype: float64"
      ]
     },
     "execution_count": 45,
     "metadata": {},
     "output_type": "execute_result"
    }
   ],
   "source": [
    "# 73\n",
    "coin_price = {'BTC': 50000,\n",
    "              'XRP': 1,\n",
    "              'ETH': 4000\n",
    "             }\n",
    "coin_series = pd.Series(coin_price, dtype='float')\n",
    "coin_series"
   ]
  },
  {
   "cell_type": "code",
   "execution_count": 47,
   "id": "a4a0d561-bce9-485a-b5ae-ea126532b2db",
   "metadata": {},
   "outputs": [
    {
     "data": {
      "text/plain": [
       "BTC    50000.0\n",
       "XRP        1.0\n",
       "ETH     4000.0\n",
       "dtype: float64"
      ]
     },
     "execution_count": 47,
     "metadata": {},
     "output_type": "execute_result"
    }
   ],
   "source": [
    "# 73 answer\n",
    "tickers = [\"BTC\", \"XRP\", \"ETH\"]\n",
    "prices = [50000, 1, 4000]\n",
    "\n",
    "s = pd.Series(data=prices, index=tickers, dtype='float')\n",
    "s"
   ]
  },
  {
   "cell_type": "code",
   "execution_count": 49,
   "id": "77b3b0d4-4c71-4c9e-b589-3e5603d21b76",
   "metadata": {},
   "outputs": [
    {
     "data": {
      "text/plain": [
       "200"
      ]
     },
     "execution_count": 49,
     "metadata": {},
     "output_type": "execute_result"
    }
   ],
   "source": [
    "# 74\n",
    "data = [100, 200, 300]\n",
    "index = [\"철수\", \"영희\", \"아름\"]\n",
    "s = pd.Series(data, index)\n",
    "s[\"영희\"]"
   ]
  },
  {
   "cell_type": "code",
   "execution_count": 50,
   "id": "38f0068f-7964-4386-ac1b-23cf7ab79700",
   "metadata": {},
   "outputs": [
    {
     "data": {
      "text/plain": [
       "200"
      ]
     },
     "execution_count": 50,
     "metadata": {},
     "output_type": "execute_result"
    }
   ],
   "source": [
    "# 75\n",
    "s.iloc[1]"
   ]
  },
  {
   "cell_type": "code",
   "execution_count": 67,
   "id": "5393800d-a56d-48e8-a967-33b60fe79bd1",
   "metadata": {},
   "outputs": [
    {
     "data": {
      "text/plain": [
       "200"
      ]
     },
     "execution_count": 67,
     "metadata": {},
     "output_type": "execute_result"
    }
   ],
   "source": [
    "# 76\n",
    "data = [100, 200, 300]\n",
    "index = [\"철수\", \"영희\", \"아름\"]\n",
    "s = pd.Series(data, index)\n",
    "s.loc[\"영희\"]"
   ]
  },
  {
   "cell_type": "code",
   "execution_count": 52,
   "id": "97e62d0c-2382-4498-a377-8f3f5c00f5e4",
   "metadata": {},
   "outputs": [],
   "source": [
    "# 77\n",
    "# s.\"영희\""
   ]
  },
  {
   "cell_type": "code",
   "execution_count": 55,
   "id": "1bf89689-4da5-4dff-a534-bfdff24d0b0a",
   "metadata": {},
   "outputs": [
    {
     "data": {
      "text/plain": [
       "철수    100\n",
       "영희    200\n",
       "dtype: int64"
      ]
     },
     "execution_count": 55,
     "metadata": {},
     "output_type": "execute_result"
    }
   ],
   "source": [
    "# 78\n",
    "s.iloc[:2]"
   ]
  },
  {
   "cell_type": "code",
   "execution_count": 56,
   "id": "42a884dd-e45a-4aba-a730-1aa1219c293e",
   "metadata": {},
   "outputs": [
    {
     "name": "stdout",
     "output_type": "stream",
     "text": [
      "철수    100\n",
      "영희    200\n",
      "dtype: int64\n",
      "철수    100\n",
      "영희    200\n",
      "dtype: int64\n",
      "철수    100\n",
      "영희    200\n",
      "dtype: int64\n",
      "철수    100\n",
      "영희    200\n",
      "dtype: int64\n",
      "철수    100\n",
      "영희    200\n",
      "dtype: int64\n",
      "철수    100\n",
      "영희    200\n",
      "dtype: int64\n",
      "[100 200]\n"
     ]
    }
   ],
   "source": [
    "# 78 정답\n",
    "print(s.iloc[0:2])\n",
    "print(s.iloc[ :2])\n",
    "print(s.loc[\"철수\":\"영희\"])\n",
    "print(s[0:2])\n",
    "print(s[ :2])\n",
    "print(s[\"철수\":\"영희\"])\n",
    "print(s.values[:2])"
   ]
  },
  {
   "cell_type": "code",
   "execution_count": 59,
   "id": "74c596f3-2aff-4132-8061-41e9ee01b0bc",
   "metadata": {},
   "outputs": [
    {
     "data": {
      "text/plain": [
       "Index(['08/01', '08/02', '08/03'], dtype='object')"
      ]
     },
     "execution_count": 59,
     "metadata": {},
     "output_type": "execute_result"
    }
   ],
   "source": [
    "# 79\n",
    "data = [100, 200, 300, 400, 500, 600]\n",
    "index = [\"08/01\", \"08/02\", \"08/03\", \"08/04\", \"08/05\", \"08/06\"]\n",
    "s = pd.Series(data, index)\n",
    "s.index[:3]"
   ]
  },
  {
   "cell_type": "code",
   "execution_count": 60,
   "id": "cadf9e74-e42a-4d66-95f3-8d008dbfdd8d",
   "metadata": {},
   "outputs": [
    {
     "name": "stdout",
     "output_type": "stream",
     "text": [
      "Index(['08/01', '08/02', '08/03'], dtype='object')\n"
     ]
    }
   ],
   "source": [
    "# 79 answer\n",
    "print(s.iloc[0:3].index)"
   ]
  },
  {
   "cell_type": "code",
   "execution_count": 64,
   "id": "fd07b049-866c-424b-b0f6-0c7c42893d7c",
   "metadata": {},
   "outputs": [
    {
     "data": {
      "text/plain": [
       "08/01    100\n",
       "08/03    300\n",
       "08/05    500\n",
       "dtype: int64"
      ]
     },
     "execution_count": 64,
     "metadata": {},
     "output_type": "execute_result"
    }
   ],
   "source": [
    "# 80\n",
    "data = [100, 200, 300, 400, 500, 600] \n",
    "index = [\"08/01\", \"08/02\", \"08/03\", \"08/04\", \"08/05\", \"08/06\"] \n",
    "s = pd.Series(data, index)\n",
    "s.iloc[:5:2]"
   ]
  },
  {
   "cell_type": "code",
   "execution_count": 66,
   "id": "a32111b7-bd75-4d9e-92cf-0b800353bb79",
   "metadata": {},
   "outputs": [
    {
     "name": "stdout",
     "output_type": "stream",
     "text": [
      "08/01    100\n",
      "08/03    300\n",
      "08/05    500\n",
      "dtype: int64\n",
      "08/01    100\n",
      "08/03    300\n",
      "08/05    500\n",
      "dtype: int64\n",
      "08/01    100\n",
      "08/03    300\n",
      "08/05    500\n",
      "dtype: int64\n",
      "08/01    100\n",
      "08/03    300\n",
      "08/05    500\n",
      "dtype: int64\n",
      "08/01    100\n",
      "08/03    300\n",
      "08/05    500\n",
      "dtype: int64\n"
     ]
    }
   ],
   "source": [
    "# 80 answer\n",
    "print(s.iloc[ : :2])\n",
    "print(s[ : :2])\n",
    "\n",
    "print(s.loc[\"08/01\":\"08/06\":2])\n",
    "print(s[\"08/01\":\"08/06\":2])\n",
    "\n",
    "print(s.iloc[[0, 2, 4]])"
   ]
  },
  {
   "cell_type": "code",
   "execution_count": 70,
   "id": "1bca6981-1006-4064-b4bf-f81bb1d8c986",
   "metadata": {},
   "outputs": [
    {
     "data": {
      "text/plain": [
       "철수    100\n",
       "영희    200\n",
       "아름    300\n",
       "순희    400\n",
       "dtype: int64"
      ]
     },
     "execution_count": 70,
     "metadata": {},
     "output_type": "execute_result"
    }
   ],
   "source": [
    "# 81\n",
    "data = [100, 200, 300]\n",
    "index = [\"철수\", \"영희\", \"아름\"]\n",
    "s = pd.Series(data, index)\n",
    "s[\"순희\"] = 400\n",
    "s"
   ]
  },
  {
   "cell_type": "code",
   "execution_count": 73,
   "id": "d50bdb04-41dc-4a5a-887f-1a30a7bfc4e7",
   "metadata": {},
   "outputs": [
    {
     "data": {
      "text/plain": [
       "영희    200\n",
       "아름    300\n",
       "순희    400\n",
       "dtype: int64"
      ]
     },
     "execution_count": 73,
     "metadata": {},
     "output_type": "execute_result"
    }
   ],
   "source": [
    "# 82\n",
    "s.drop(\"철수\")"
   ]
  },
  {
   "cell_type": "code",
   "execution_count": 78,
   "id": "2fd5d2a4-32ef-4eb8-94c3-175a9058c7b3",
   "metadata": {},
   "outputs": [
    {
     "data": {
      "text/plain": [
       "영희    200\n",
       "아름    300\n",
       "순희    400\n",
       "dtype: int64"
      ]
     },
     "execution_count": 78,
     "metadata": {},
     "output_type": "execute_result"
    }
   ],
   "source": [
    "# 83\n",
    "s"
   ]
  },
  {
   "cell_type": "code",
   "execution_count": 79,
   "id": "2f75e7f0-5dba-46e2-9d82-ee8d4487b335",
   "metadata": {},
   "outputs": [
    {
     "data": {
      "text/plain": [
       "<bound method Series.unique of 삼성전자     전기,전자\n",
       "LG전자     전기,전자\n",
       "현대차       운수장비\n",
       "NAVER     서비스업\n",
       "카카오       서비스업\n",
       "dtype: object>"
      ]
     },
     "execution_count": 79,
     "metadata": {},
     "output_type": "execute_result"
    }
   ],
   "source": [
    "# 84\n",
    "data = {\n",
    "    \"삼성전자\": \"전기,전자\",\n",
    "    \"LG전자\": \"전기,전자\",\n",
    "    \"현대차\": \"운수장비\",\n",
    "    \"NAVER\": \"서비스업\",\n",
    "    \"카카오\": \"서비스업\"\n",
    "}\n",
    "s = pd.Series(data)\n",
    "s.unique\n"
   ]
  },
  {
   "cell_type": "code",
   "execution_count": 80,
   "id": "0d56cf98-22a8-4382-9427-5637fb0e465b",
   "metadata": {},
   "outputs": [
    {
     "data": {
      "text/plain": [
       "<bound method Series.unique of 김과장     9000\n",
       "이대리     9000\n",
       "박전무     8000\n",
       "이대리     9000\n",
       "이대리    10000\n",
       "dtype: int64>"
      ]
     },
     "execution_count": 80,
     "metadata": {},
     "output_type": "execute_result"
    }
   ],
   "source": [
    "import pandas as pd\n",
    "\n",
    "s = pd.Series(\n",
    "    data = [9000, 9000, 8000, 9000, 10000],\n",
    "    index = ['김과장', '이대리', '박전무', '이대리', '이대리']\n",
    ")\n",
    "s.unique"
   ]
  },
  {
   "cell_type": "code",
   "execution_count": 81,
   "id": "47dec6f8-4693-4e14-bd67-d901293b220f",
   "metadata": {},
   "outputs": [
    {
     "data": {
      "text/plain": [
       "<bound method Index.unique of Index(['김과장', '이대리', '박전무', '이대리', '이대리'], dtype='object')>"
      ]
     },
     "execution_count": 81,
     "metadata": {},
     "output_type": "execute_result"
    }
   ],
   "source": [
    "# 85\n",
    "s.index.unique"
   ]
  },
  {
   "cell_type": "code",
   "execution_count": 82,
   "id": "244337bc-60bd-41f7-a4a9-9d3521fd6628",
   "metadata": {},
   "outputs": [
    {
     "data": {
      "text/plain": [
       "9000     3\n",
       "8000     1\n",
       "10000    1\n",
       "Name: count, dtype: int64"
      ]
     },
     "execution_count": 82,
     "metadata": {},
     "output_type": "execute_result"
    }
   ],
   "source": [
    "# 86\n",
    "s.value_counts()"
   ]
  },
  {
   "cell_type": "code",
   "execution_count": 84,
   "id": "7448c8e3-1d94-4dc4-a796-9d995bb9e6d4",
   "metadata": {},
   "outputs": [
    {
     "data": {
      "text/plain": [
       "이대리    3\n",
       "김과장    1\n",
       "박전무    1\n",
       "Name: count, dtype: int64"
      ]
     },
     "execution_count": 84,
     "metadata": {},
     "output_type": "execute_result"
    }
   ],
   "source": [
    "# 87\n",
    "s.index.value_counts()"
   ]
  },
  {
   "cell_type": "code",
   "execution_count": null,
   "id": "434ecc63-9a07-4edd-8252-2fe794cd35ef",
   "metadata": {},
   "outputs": [],
   "source": [
    "# 88\n"
   ]
  },
  {
   "cell_type": "markdown",
   "id": "f658bf0b-2370-43db-82f0-626b1092a721",
   "metadata": {},
   "source": [
    "## 문제 91~100"
   ]
  },
  {
   "cell_type": "code",
   "execution_count": 85,
   "id": "3a2363f0-9be5-4017-b0fb-aa356cb24bfe",
   "metadata": {},
   "outputs": [
    {
     "ename": "AttributeError",
     "evalue": "'Series' object has no attribute 'sort'",
     "output_type": "error",
     "traceback": [
      "\u001b[1;31m---------------------------------------------------------------------------\u001b[0m",
      "\u001b[1;31mAttributeError\u001b[0m                            Traceback (most recent call last)",
      "\u001b[1;32m~\\AppData\\Local\\Temp\\ipykernel_1280\\3439382417.py\u001b[0m in \u001b[0;36m?\u001b[1;34m()\u001b[0m\n\u001b[0;32m      1\u001b[0m \u001b[1;31m# 91\u001b[0m\u001b[1;33m\u001b[0m\u001b[1;33m\u001b[0m\u001b[0m\n\u001b[0;32m      2\u001b[0m \u001b[0mdata\u001b[0m \u001b[1;33m=\u001b[0m \u001b[1;33m[\u001b[0m\u001b[1;36m100\u001b[0m\u001b[1;33m,\u001b[0m \u001b[1;36m300\u001b[0m\u001b[1;33m,\u001b[0m \u001b[1;36m200\u001b[0m\u001b[1;33m]\u001b[0m\u001b[1;33m\u001b[0m\u001b[1;33m\u001b[0m\u001b[0m\n\u001b[0;32m      3\u001b[0m \u001b[0mindex\u001b[0m \u001b[1;33m=\u001b[0m \u001b[1;33m[\u001b[0m\u001b[1;34m\"08/01\"\u001b[0m\u001b[1;33m,\u001b[0m \u001b[1;34m\"08/02\"\u001b[0m\u001b[1;33m,\u001b[0m \u001b[1;34m\"08/03\"\u001b[0m\u001b[1;33m]\u001b[0m\u001b[1;33m\u001b[0m\u001b[1;33m\u001b[0m\u001b[0m\n\u001b[0;32m      4\u001b[0m \u001b[0ms\u001b[0m \u001b[1;33m=\u001b[0m \u001b[0mpd\u001b[0m\u001b[1;33m.\u001b[0m\u001b[0mSeries\u001b[0m\u001b[1;33m(\u001b[0m\u001b[0mdata\u001b[0m\u001b[1;33m,\u001b[0m \u001b[0mindex\u001b[0m\u001b[1;33m)\u001b[0m\u001b[1;33m\u001b[0m\u001b[1;33m\u001b[0m\u001b[0m\n\u001b[1;32m----> 5\u001b[1;33m \u001b[0ms\u001b[0m\u001b[1;33m.\u001b[0m\u001b[0msort\u001b[0m\u001b[1;33m(\u001b[0m\u001b[1;33m)\u001b[0m\u001b[1;33m\u001b[0m\u001b[1;33m\u001b[0m\u001b[0m\n\u001b[0m",
      "\u001b[1;32m~\\AppData\\Local\\Programs\\Python\\Python311\\Lib\\site-packages\\pandas\\core\\generic.py\u001b[0m in \u001b[0;36m?\u001b[1;34m(self, name)\u001b[0m\n\u001b[0;32m   6200\u001b[0m             \u001b[1;32mand\u001b[0m \u001b[0mname\u001b[0m \u001b[1;32mnot\u001b[0m \u001b[1;32min\u001b[0m \u001b[0mself\u001b[0m\u001b[1;33m.\u001b[0m\u001b[0m_accessors\u001b[0m\u001b[1;33m\u001b[0m\u001b[1;33m\u001b[0m\u001b[0m\n\u001b[0;32m   6201\u001b[0m             \u001b[1;32mand\u001b[0m \u001b[0mself\u001b[0m\u001b[1;33m.\u001b[0m\u001b[0m_info_axis\u001b[0m\u001b[1;33m.\u001b[0m\u001b[0m_can_hold_identifiers_and_holds_name\u001b[0m\u001b[1;33m(\u001b[0m\u001b[0mname\u001b[0m\u001b[1;33m)\u001b[0m\u001b[1;33m\u001b[0m\u001b[1;33m\u001b[0m\u001b[0m\n\u001b[0;32m   6202\u001b[0m         ):\n\u001b[0;32m   6203\u001b[0m             \u001b[1;32mreturn\u001b[0m \u001b[0mself\u001b[0m\u001b[1;33m[\u001b[0m\u001b[0mname\u001b[0m\u001b[1;33m]\u001b[0m\u001b[1;33m\u001b[0m\u001b[1;33m\u001b[0m\u001b[0m\n\u001b[1;32m-> 6204\u001b[1;33m         \u001b[1;32mreturn\u001b[0m \u001b[0mobject\u001b[0m\u001b[1;33m.\u001b[0m\u001b[0m__getattribute__\u001b[0m\u001b[1;33m(\u001b[0m\u001b[0mself\u001b[0m\u001b[1;33m,\u001b[0m \u001b[0mname\u001b[0m\u001b[1;33m)\u001b[0m\u001b[1;33m\u001b[0m\u001b[1;33m\u001b[0m\u001b[0m\n\u001b[0m",
      "\u001b[1;31mAttributeError\u001b[0m: 'Series' object has no attribute 'sort'"
     ]
    }
   ],
   "source": [
    "# 91\n",
    "data = [100, 300, 200]\n",
    "index = [\"08/01\", \"08/02\", \"08/03\"]\n",
    "s = pd.Series(data, index)\n",
    "s.sort()"
   ]
  },
  {
   "cell_type": "code",
   "execution_count": 86,
   "id": "17f25eca-455d-44d2-adf9-0072011da841",
   "metadata": {},
   "outputs": [
    {
     "name": "stdout",
     "output_type": "stream",
     "text": [
      "08/01    100\n",
      "08/03    200\n",
      "08/02    300\n",
      "dtype: int64\n",
      "08/01    100\n",
      "08/02    300\n",
      "08/03    200\n",
      "dtype: int64\n"
     ]
    }
   ],
   "source": [
    "# 91 answer\n",
    "print(s.iloc[ [0, 2, 1]])\n",
    "print(s.loc[ [\"08/01\", \"08/02\", \"08/03\"]])"
   ]
  },
  {
   "cell_type": "code",
   "execution_count": 87,
   "id": "36b3fff7-689d-4fa0-8ff5-c4ee937df18b",
   "metadata": {},
   "outputs": [
    {
     "data": {
      "text/plain": [
       "1    4\n",
       "2    6\n",
       "3    7\n",
       "0    9\n",
       "dtype: int32"
      ]
     },
     "execution_count": 87,
     "metadata": {},
     "output_type": "execute_result"
    }
   ],
   "source": [
    "# 92\n",
    "data = np.random.randint(10, size=4)\n",
    "s = pd.Series(data)\n",
    "s.sort_values()"
   ]
  },
  {
   "cell_type": "code",
   "execution_count": 88,
   "id": "5bef2c4c-1b19-4089-a900-c92e4825122e",
   "metadata": {},
   "outputs": [
    {
     "data": {
      "text/plain": [
       "0    9\n",
       "3    7\n",
       "2    6\n",
       "1    4\n",
       "dtype: int32"
      ]
     },
     "execution_count": 88,
     "metadata": {},
     "output_type": "execute_result"
    }
   ],
   "source": [
    "# 92 answer\n",
    "s.sort_values(ascending=False)"
   ]
  },
  {
   "cell_type": "code",
   "execution_count": 93,
   "id": "15578baa-dc41-4676-a0d8-d804ca9515b1",
   "metadata": {},
   "outputs": [
    {
     "data": {
      "text/plain": [
       "a    3\n",
       "b    7\n",
       "c    9\n",
       "d    5\n",
       "dtype: int32"
      ]
     },
     "execution_count": 93,
     "metadata": {},
     "output_type": "execute_result"
    }
   ],
   "source": [
    "# 93\n",
    "s = pd.Series(np.random.randint(10, size=4), [\"b\", \"c\", \"a\", \"d\"])\n",
    "s.index.sort_values()\n",
    "pd.Series(np.random.randint(10, size=4), s.index.sort_values())"
   ]
  },
  {
   "cell_type": "code",
   "execution_count": 94,
   "id": "a57b2c0f-60cd-4e2f-9bef-8bf98ff6a965",
   "metadata": {},
   "outputs": [
    {
     "data": {
      "text/plain": [
       "a    1\n",
       "b    5\n",
       "c    0\n",
       "d    8\n",
       "dtype: int32"
      ]
     },
     "execution_count": 94,
     "metadata": {},
     "output_type": "execute_result"
    }
   ],
   "source": [
    "# 93 answer\n",
    "s.sort_index()"
   ]
  },
  {
   "cell_type": "code",
   "execution_count": 98,
   "id": "e88f8c12-d462-4826-8223-07c904bd12b7",
   "metadata": {},
   "outputs": [
    {
     "data": {
      "text/plain": [
       "0     100000000\n",
       "1    8100000000\n",
       "2    1600000000\n",
       "dtype: int64"
      ]
     },
     "execution_count": 98,
     "metadata": {},
     "output_type": "execute_result"
    }
   ],
   "source": [
    "# 94\n",
    "data = list(map(lambda x: x ** 4, [100, 300, 200]))\n",
    "s = pd.Series(data)\n",
    "s"
   ]
  },
  {
   "cell_type": "code",
   "execution_count": 100,
   "id": "eae88c9d-2c60-402e-977e-cb7513d5ffe9",
   "metadata": {},
   "outputs": [],
   "source": [
    "# 94 answer\n",
    "# print(data ** 4)"
   ]
  },
  {
   "cell_type": "code",
   "execution_count": 103,
   "id": "105f7e6c-f18e-4abe-9a74-46b383278cbc",
   "metadata": {},
   "outputs": [
    {
     "name": "stdout",
     "output_type": "stream",
     "text": [
      "a    200\n",
      "b    500\n",
      "c    500\n",
      "dtype: int64\n"
     ]
    }
   ],
   "source": [
    "# 95\n",
    "data = [100, 300, 200]\n",
    "s0 = pd.Series(data, [\"a\", \"b\", \"c\"])\n",
    "s1 = pd.Series(data, [\"a\", \"c\", \"b\"])\n",
    "print(s0 + s1)"
   ]
  },
  {
   "cell_type": "code",
   "execution_count": 106,
   "id": "acda8792-580c-4c1d-97ab-84982c9799d7",
   "metadata": {},
   "outputs": [
    {
     "name": "stdout",
     "output_type": "stream",
     "text": [
      "5/1    800.0\n",
      "5/2    700.0\n",
      "5/3      NaN\n",
      "5/4      NaN\n",
      "dtype: float64\n"
     ]
    }
   ],
   "source": [
    "# 96\n",
    "high = pd.Series(data=[51500, 51200, 52500], index=[\"5/1\", \"5/2\", \"5/3\"])\n",
    "low = pd.Series(data=[50700, 50500, 50500], index=[\"5/1\", \"5/2\", \"5/4\"])\n",
    "\n",
    "diff = high - low\n",
    "print(diff)"
   ]
  },
  {
   "cell_type": "code",
   "execution_count": 108,
   "id": "835e7de8-4909-48aa-8774-0cb5ae90ce4e",
   "metadata": {},
   "outputs": [
    {
     "data": {
      "text/plain": [
       "5/1    51500\n",
       "5/2    51200\n",
       "dtype: int64"
      ]
     },
     "execution_count": 108,
     "metadata": {},
     "output_type": "execute_result"
    }
   ],
   "source": [
    "# 97\n",
    "s = pd.Series(data=[51500, 51200, 52500], index=[\"5/1\", \"5/2\", \"5/3\"])\n",
    "cond = s.iloc[:] < 52000\n",
    "s[cond]"
   ]
  },
  {
   "cell_type": "code",
   "execution_count": 110,
   "id": "e5d6794a-8384-441e-b17f-873c4be75ab3",
   "metadata": {},
   "outputs": [
    {
     "name": "stdout",
     "output_type": "stream",
     "text": [
      "5/2    51200\n",
      "5/3    52500\n",
      "dtype: int64\n"
     ]
    }
   ],
   "source": [
    "# 98 정답\n",
    "조건 = s.index > \"5/1\"\n",
    "print(s.loc[조건])"
   ]
  },
  {
   "cell_type": "code",
   "execution_count": 114,
   "id": "ec823a00-e9a8-46e0-8f0b-d89d4b08945d",
   "metadata": {},
   "outputs": [
    {
     "ename": "ValueError",
     "evalue": "The truth value of a Series is ambiguous. Use a.empty, a.bool(), a.item(), a.any() or a.all().",
     "output_type": "error",
     "traceback": [
      "\u001b[1;31m---------------------------------------------------------------------------\u001b[0m",
      "\u001b[1;31mValueError\u001b[0m                                Traceback (most recent call last)",
      "\u001b[1;32m~\\AppData\\Local\\Temp\\ipykernel_1280\\3159124973.py\u001b[0m in \u001b[0;36m?\u001b[1;34m()\u001b[0m\n\u001b[0;32m      1\u001b[0m \u001b[1;31m# 99\u001b[0m\u001b[1;33m\u001b[0m\u001b[1;33m\u001b[0m\u001b[0m\n\u001b[0;32m      2\u001b[0m \u001b[0ms\u001b[0m \u001b[1;33m=\u001b[0m \u001b[0mpd\u001b[0m\u001b[1;33m.\u001b[0m\u001b[0mSeries\u001b[0m\u001b[1;33m(\u001b[0m\u001b[0mdata\u001b[0m\u001b[1;33m=\u001b[0m\u001b[1;33m[\u001b[0m\u001b[1;36m51500\u001b[0m\u001b[1;33m,\u001b[0m \u001b[1;36m51200\u001b[0m\u001b[1;33m,\u001b[0m \u001b[1;36m52500\u001b[0m\u001b[1;33m]\u001b[0m\u001b[1;33m,\u001b[0m \u001b[0mindex\u001b[0m\u001b[1;33m=\u001b[0m\u001b[1;33m[\u001b[0m\u001b[1;34m\"5/1\"\u001b[0m\u001b[1;33m,\u001b[0m \u001b[1;34m\"5/2\"\u001b[0m\u001b[1;33m,\u001b[0m \u001b[1;34m\"5/3\"\u001b[0m\u001b[1;33m]\u001b[0m\u001b[1;33m)\u001b[0m\u001b[1;33m\u001b[0m\u001b[1;33m\u001b[0m\u001b[0m\n\u001b[1;32m----> 3\u001b[1;33m \u001b[0mcond\u001b[0m \u001b[1;33m=\u001b[0m \u001b[0ms\u001b[0m \u001b[1;33m>=\u001b[0m \u001b[1;36m51400\u001b[0m \u001b[1;33m&\u001b[0m \u001b[0ms\u001b[0m \u001b[1;33m<=\u001b[0m \u001b[1;36m53000\u001b[0m\u001b[1;33m\u001b[0m\u001b[1;33m\u001b[0m\u001b[0m\n\u001b[0m\u001b[0;32m      4\u001b[0m \u001b[0ms\u001b[0m\u001b[1;33m[\u001b[0m\u001b[0mcond\u001b[0m\u001b[1;33m]\u001b[0m\u001b[1;33m\u001b[0m\u001b[1;33m\u001b[0m\u001b[0m\n",
      "\u001b[1;32m~\\AppData\\Local\\Programs\\Python\\Python311\\Lib\\site-packages\\pandas\\core\\generic.py\u001b[0m in \u001b[0;36m?\u001b[1;34m(self)\u001b[0m\n\u001b[0;32m   1517\u001b[0m     \u001b[1;33m@\u001b[0m\u001b[0mfinal\u001b[0m\u001b[1;33m\u001b[0m\u001b[1;33m\u001b[0m\u001b[0m\n\u001b[0;32m   1518\u001b[0m     \u001b[1;32mdef\u001b[0m \u001b[0m__nonzero__\u001b[0m\u001b[1;33m(\u001b[0m\u001b[0mself\u001b[0m\u001b[1;33m)\u001b[0m \u001b[1;33m->\u001b[0m \u001b[0mNoReturn\u001b[0m\u001b[1;33m:\u001b[0m\u001b[1;33m\u001b[0m\u001b[1;33m\u001b[0m\u001b[0m\n\u001b[1;32m-> 1519\u001b[1;33m         raise ValueError(\n\u001b[0m\u001b[0;32m   1520\u001b[0m             \u001b[1;34mf\"The truth value of a {type(self).__name__} is ambiguous. \"\u001b[0m\u001b[1;33m\u001b[0m\u001b[1;33m\u001b[0m\u001b[0m\n\u001b[0;32m   1521\u001b[0m             \u001b[1;34m\"Use a.empty, a.bool(), a.item(), a.any() or a.all().\"\u001b[0m\u001b[1;33m\u001b[0m\u001b[1;33m\u001b[0m\u001b[0m\n\u001b[0;32m   1522\u001b[0m         )\n",
      "\u001b[1;31mValueError\u001b[0m: The truth value of a Series is ambiguous. Use a.empty, a.bool(), a.item(), a.any() or a.all()."
     ]
    }
   ],
   "source": [
    "# 99\n",
    "s = pd.Series(data=[51500, 51200, 52500], index=[\"5/1\", \"5/2\", \"5/3\"])\n",
    "cond = s >= 51400 & s <= 53000\n",
    "s[cond]"
   ]
  },
  {
   "cell_type": "code",
   "execution_count": null,
   "id": "1bd1cba9-4225-45da-bb1b-664515cb865e",
   "metadata": {},
   "outputs": [],
   "source": []
  }
 ],
 "metadata": {
  "kernelspec": {
   "display_name": "Python 3 (ipykernel)",
   "language": "python",
   "name": "python3"
  },
  "language_info": {
   "codemirror_mode": {
    "name": "ipython",
    "version": 3
   },
   "file_extension": ".py",
   "mimetype": "text/x-python",
   "name": "python",
   "nbconvert_exporter": "python",
   "pygments_lexer": "ipython3",
   "version": "3.11.4"
  }
 },
 "nbformat": 4,
 "nbformat_minor": 5
}
