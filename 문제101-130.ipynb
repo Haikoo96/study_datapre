{
 "cells": [
  {
   "cell_type": "markdown",
   "id": "00e2a739-90a9-4f13-8752-d518ea5f0c3b",
   "metadata": {},
   "source": [
    "## 문제 101~110"
   ]
  },
  {
   "cell_type": "code",
   "execution_count": 1,
   "id": "82e0cccf-8a02-48fc-8497-ce7f10e49350",
   "metadata": {},
   "outputs": [],
   "source": [
    "import pandas\n",
    "from pandas import Series "
   ]
  },
  {
   "cell_type": "code",
   "execution_count": 2,
   "id": "ddc2d947-d262-40e2-91eb-f63179641a1c",
   "metadata": {},
   "outputs": [
    {
     "data": {
      "text/plain": [
       "364800"
      ]
     },
     "execution_count": 2,
     "metadata": {},
     "output_type": "execute_result"
    }
   ],
   "source": [
    "# 101\n",
    "data = {\n",
    "    \"2020-12-11\": 73400,\n",
    "    \"2020-12-10\": 72900,\n",
    "    \"2020-12-09\": 73900,\n",
    "    \"2020-12-08\": 71700,\n",
    "    \"2020-12-07\": 72900\n",
    "}\n",
    "s = Series(data)\n",
    "s.sum()"
   ]
  },
  {
   "cell_type": "code",
   "execution_count": 3,
   "id": "057af283-ed89-4beb-b0d8-11fc01650169",
   "metadata": {},
   "outputs": [
    {
     "data": {
      "text/plain": [
       "72960.0"
      ]
     },
     "execution_count": 3,
     "metadata": {},
     "output_type": "execute_result"
    }
   ],
   "source": [
    "# 102\n",
    "s.mean()"
   ]
  },
  {
   "cell_type": "code",
   "execution_count": 4,
   "id": "b426d183-6a16-48a2-be2f-8159731d023c",
   "metadata": {},
   "outputs": [
    {
     "name": "stdout",
     "output_type": "stream",
     "text": [
      "73900\n",
      "71700\n"
     ]
    }
   ],
   "source": [
    "# 103\n",
    "print(s.max())\n",
    "print(s.min())"
   ]
  },
  {
   "cell_type": "code",
   "execution_count": 5,
   "id": "80e08fd1-7193-4781-a0ab-db8bcb1599ef",
   "metadata": {},
   "outputs": [
    {
     "data": {
      "text/plain": [
       "2020-12-11         NaN\n",
       "2020-12-10   -0.006812\n",
       "2020-12-09    0.013717\n",
       "2020-12-08   -0.029770\n",
       "2020-12-07    0.016736\n",
       "dtype: float64"
      ]
     },
     "execution_count": 5,
     "metadata": {},
     "output_type": "execute_result"
    }
   ],
   "source": [
    "# 104\n",
    "s.pct_change()"
   ]
  },
  {
   "cell_type": "code",
   "execution_count": 7,
   "id": "d2b43a8f-5d82-4cd9-8d7e-7ae90aa8e381",
   "metadata": {},
   "outputs": [
    {
     "data": {
      "text/plain": [
       "1.05049494"
      ]
     },
     "execution_count": 7,
     "metadata": {},
     "output_type": "execute_result"
    }
   ],
   "source": [
    "# 105\n",
    "ratio = [1.01, 0.99, 1.03, 1.02, 1]\n",
    "date = ['2020-12-11', '2020-12-10', '2020-12-09', '2020-12-08', '2020-12-07']\n",
    "s = Series(ratio, index=date)\n",
    "s.product()"
   ]
  },
  {
   "cell_type": "code",
   "execution_count": 8,
   "id": "d2a16877-3e19-4199-8ca9-e265e3c08b58",
   "metadata": {},
   "outputs": [
    {
     "data": {
      "text/plain": [
       "2020-12-11    1.01\n",
       "2020-12-10    1.01\n",
       "2020-12-09    1.03\n",
       "2020-12-08    1.03\n",
       "2020-12-07    1.03\n",
       "dtype: float64"
      ]
     },
     "execution_count": 8,
     "metadata": {},
     "output_type": "execute_result"
    }
   ],
   "source": [
    "# 106\n",
    "s.cummax()"
   ]
  },
  {
   "cell_type": "code",
   "execution_count": 9,
   "id": "ef01e8ab-720d-4cdb-bd7c-99135b0b76ea",
   "metadata": {},
   "outputs": [
    {
     "data": {
      "text/plain": [
       "2020-12-11    1.01\n",
       "2020-12-10    0.99\n",
       "2020-12-09    0.99\n",
       "2020-12-08    0.99\n",
       "2020-12-07    0.99\n",
       "dtype: float64"
      ]
     },
     "execution_count": 9,
     "metadata": {},
     "output_type": "execute_result"
    }
   ],
   "source": [
    "# 107\n",
    "s.cummin()"
   ]
  },
  {
   "cell_type": "code",
   "execution_count": 10,
   "id": "66b13036-be4e-4b74-8bbb-2a9bb668b3ab",
   "metadata": {},
   "outputs": [
    {
     "data": {
      "text/plain": [
       "2020-12-11    1.010000\n",
       "2020-12-10    0.999900\n",
       "2020-12-09    1.029897\n",
       "2020-12-08    1.050495\n",
       "2020-12-07    1.050495\n",
       "dtype: float64"
      ]
     },
     "execution_count": 10,
     "metadata": {},
     "output_type": "execute_result"
    }
   ],
   "source": [
    "# 108\n",
    "s.cumprod()"
   ]
  },
  {
   "cell_type": "code",
   "execution_count": 11,
   "id": "97c26312-766f-4070-a192-d2ec7c3ffdc1",
   "metadata": {},
   "outputs": [
    {
     "ename": "TypeError",
     "evalue": "NDFrame.rolling() missing 1 required positional argument: 'window'",
     "output_type": "error",
     "traceback": [
      "\u001b[1;31m---------------------------------------------------------------------------\u001b[0m",
      "\u001b[1;31mTypeError\u001b[0m                                 Traceback (most recent call last)",
      "Cell \u001b[1;32mIn[11], line 2\u001b[0m\n\u001b[0;32m      1\u001b[0m \u001b[38;5;66;03m# 109\u001b[39;00m\n\u001b[1;32m----> 2\u001b[0m \u001b[43ms\u001b[49m\u001b[38;5;241;43m.\u001b[39;49m\u001b[43mrolling\u001b[49m\u001b[43m(\u001b[49m\u001b[43m)\u001b[49m\n",
      "\u001b[1;31mTypeError\u001b[0m: NDFrame.rolling() missing 1 required positional argument: 'window'"
     ]
    }
   ],
   "source": [
    "# 109\n",
    "s.rolling()"
   ]
  },
  {
   "cell_type": "code",
   "execution_count": null,
   "id": "22c76cf6-6d36-4d8e-a196-81ef946f67ab",
   "metadata": {},
   "outputs": [],
   "source": []
  }
 ],
 "metadata": {
  "kernelspec": {
   "display_name": "Python 3 (ipykernel)",
   "language": "python",
   "name": "python3"
  },
  "language_info": {
   "codemirror_mode": {
    "name": "ipython",
    "version": 3
   },
   "file_extension": ".py",
   "mimetype": "text/x-python",
   "name": "python",
   "nbconvert_exporter": "python",
   "pygments_lexer": "ipython3",
   "version": "3.10.0"
  }
 },
 "nbformat": 4,
 "nbformat_minor": 5
}
