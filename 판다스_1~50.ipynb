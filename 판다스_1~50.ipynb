{
 "cells": [
  {
   "cell_type": "markdown",
   "id": "70c785ca-0c78-4de9-be8d-0bf94998a4c1",
   "metadata": {},
   "source": [
    "## 문제 1~10\n",
    "- 시도와 답과 다른 경우만 따로 표시할 예정"
   ]
  },
  {
   "cell_type": "code",
   "execution_count": 1,
   "id": "0db7e3f6-dc5d-44a5-b3f3-033488f963a6",
   "metadata": {},
   "outputs": [],
   "source": [
    "# 1\n",
    "import numpy as np"
   ]
  },
  {
   "cell_type": "code",
   "execution_count": 2,
   "id": "f1ffa5ba-cabe-481b-b010-ac1645abd5e0",
   "metadata": {},
   "outputs": [
    {
     "data": {
      "text/plain": [
       "array([1, 2, 3])"
      ]
     },
     "execution_count": 2,
     "metadata": {},
     "output_type": "execute_result"
    }
   ],
   "source": [
    "# 2\n",
    "data = [1, 2, 3]\n",
    "np.array(data)"
   ]
  },
  {
   "cell_type": "code",
   "execution_count": 3,
   "id": "8d4fe340-b48f-469f-8d45-a426a512d2ec",
   "metadata": {},
   "outputs": [
    {
     "data": {
      "text/plain": [
       "array([ 0,  1,  2,  3,  4,  5,  6,  7,  8,  9, 10, 11, 12, 13, 14, 15, 16,\n",
       "       17, 18, 19, 20, 21, 22, 23, 24, 25, 26, 27, 28, 29, 30, 31, 32, 33,\n",
       "       34, 35, 36, 37, 38, 39, 40, 41, 42, 43, 44, 45, 46, 47, 48, 49, 50,\n",
       "       51, 52, 53, 54, 55, 56, 57, 58, 59, 60, 61, 62, 63, 64, 65, 66, 67,\n",
       "       68, 69, 70, 71, 72, 73, 74, 75, 76, 77, 78, 79, 80, 81, 82, 83, 84,\n",
       "       85, 86, 87, 88, 89, 90, 91, 92, 93, 94, 95, 96, 97, 98, 99])"
      ]
     },
     "execution_count": 3,
     "metadata": {},
     "output_type": "execute_result"
    }
   ],
   "source": [
    "# 3\n",
    "np.arange(0, 99+1)"
   ]
  },
  {
   "cell_type": "code",
   "execution_count": 4,
   "id": "54cfe02b-6d88-4af9-9ec3-2641396b96de",
   "metadata": {},
   "outputs": [
    {
     "data": {
      "text/plain": [
       "array([ 0,  1,  2,  3,  4,  5,  6,  7,  8,  9, 10, 11, 12, 13, 14, 15, 16,\n",
       "       17, 18, 19, 20, 21, 22, 23, 24, 25, 26, 27, 28, 29, 30, 31, 32, 33,\n",
       "       34, 35, 36, 37, 38, 39, 40, 41, 42, 43, 44, 45, 46, 47, 48, 49, 50,\n",
       "       51, 52, 53, 54, 55, 56, 57, 58, 59, 60, 61, 62, 63, 64, 65, 66, 67,\n",
       "       68, 69, 70, 71, 72, 73, 74, 75, 76, 77, 78, 79, 80, 81, 82, 83, 84,\n",
       "       85, 86, 87, 88, 89, 90, 91, 92, 93, 94, 95, 96, 97, 98, 99])"
      ]
     },
     "execution_count": 4,
     "metadata": {},
     "output_type": "execute_result"
    }
   ],
   "source": [
    "# 3번 답\n",
    "np.arange(100)"
   ]
  },
  {
   "cell_type": "code",
   "execution_count": 5,
   "id": "93af424b-011b-474f-bafc-2e6f1402b5be",
   "metadata": {},
   "outputs": [
    {
     "data": {
      "text/plain": [
       "array([ 3,  6,  9, 12, 15, 18, 21, 24, 27])"
      ]
     },
     "execution_count": 5,
     "metadata": {},
     "output_type": "execute_result"
    }
   ],
   "source": [
    "# 4\n",
    "np.arange(3, 27+1, 3)"
   ]
  },
  {
   "cell_type": "code",
   "execution_count": 6,
   "id": "62cf92ed-2f90-4d56-a977-b3c6e21e88b2",
   "metadata": {},
   "outputs": [
    {
     "data": {
      "text/plain": [
       "array([ 3,  6,  9, 12, 15, 18, 21, 24, 27])"
      ]
     },
     "execution_count": 6,
     "metadata": {},
     "output_type": "execute_result"
    }
   ],
   "source": [
    "# 4번 답\n",
    "np.arange(1, 10) * 3"
   ]
  },
  {
   "cell_type": "code",
   "execution_count": 7,
   "id": "5b30d93a-4c9e-4146-9807-02651336d461",
   "metadata": {},
   "outputs": [
    {
     "data": {
      "text/plain": [
       "array([  2,   4,   6,   8,  10,  12,  14,  16,  18,  20,  22,  24,  26,\n",
       "        28,  30,  32,  34,  36,  38,  40,  42,  44,  46,  48,  50,  52,\n",
       "        54,  56,  58,  60,  62,  64,  66,  68,  70,  72,  74,  76,  78,\n",
       "        80,  82,  84,  86,  88,  90,  92,  94,  96,  98, 100, 102, 104,\n",
       "       106, 108, 110, 112, 114, 116, 118, 120, 122, 124, 126, 128, 130,\n",
       "       132, 134, 136, 138, 140, 142, 144, 146, 148, 150, 152, 154, 156,\n",
       "       158, 160, 162, 164, 166, 168, 170, 172, 174, 176, 178, 180, 182,\n",
       "       184, 186, 188, 190, 192, 194, 196, 198, 200, 202, 204, 206, 208,\n",
       "       210, 212, 214, 216, 218, 220, 222, 224, 226, 228, 230, 232, 234,\n",
       "       236, 238, 240, 242, 244, 246, 248, 250, 252, 254, 256, 258, 260,\n",
       "       262, 264, 266, 268, 270, 272, 274, 276, 278, 280, 282, 284, 286,\n",
       "       288, 290, 292, 294, 296, 298, 300, 302, 304, 306, 308, 310, 312,\n",
       "       314, 316, 318, 320, 322, 324, 326, 328, 330, 332, 334, 336, 338,\n",
       "       340, 342, 344, 346, 348, 350, 352, 354, 356, 358, 360, 362, 364,\n",
       "       366, 368, 370, 372, 374, 376, 378, 380, 382, 384, 386, 388, 390,\n",
       "       392, 394, 396, 398, 400, 402, 404, 406, 408, 410, 412, 414, 416,\n",
       "       418, 420, 422, 424, 426, 428, 430, 432, 434, 436, 438, 440, 442,\n",
       "       444, 446, 448, 450, 452, 454, 456, 458, 460, 462, 464, 466, 468,\n",
       "       470, 472, 474, 476, 478, 480, 482, 484, 486, 488, 490, 492, 494,\n",
       "       496, 498, 500, 502, 504, 506, 508, 510, 512, 514, 516, 518, 520,\n",
       "       522, 524, 526, 528, 530, 532, 534, 536, 538, 540, 542, 544, 546,\n",
       "       548, 550, 552, 554, 556, 558, 560, 562, 564, 566, 568, 570, 572,\n",
       "       574, 576, 578, 580, 582, 584, 586, 588, 590, 592, 594, 596, 598,\n",
       "       600, 602, 604, 606, 608, 610, 612, 614, 616, 618, 620, 622, 624,\n",
       "       626, 628, 630, 632, 634, 636, 638, 640, 642, 644, 646, 648, 650,\n",
       "       652, 654, 656, 658, 660, 662, 664, 666, 668, 670, 672, 674, 676,\n",
       "       678, 680, 682, 684, 686, 688, 690, 692, 694, 696, 698, 700, 702,\n",
       "       704, 706, 708, 710, 712, 714, 716, 718, 720, 722, 724, 726, 728,\n",
       "       730, 732, 734, 736, 738, 740, 742, 744, 746, 748, 750, 752, 754,\n",
       "       756, 758, 760, 762, 764, 766, 768, 770, 772, 774, 776, 778, 780,\n",
       "       782, 784, 786, 788, 790, 792, 794, 796, 798, 800, 802, 804, 806,\n",
       "       808, 810, 812, 814, 816, 818, 820, 822, 824, 826, 828, 830, 832,\n",
       "       834, 836, 838, 840, 842, 844, 846, 848, 850, 852, 854, 856, 858,\n",
       "       860, 862, 864, 866, 868, 870, 872, 874, 876, 878, 880, 882, 884,\n",
       "       886, 888, 890, 892, 894, 896, 898, 900, 902, 904, 906, 908, 910,\n",
       "       912, 914, 916, 918, 920, 922, 924, 926, 928, 930, 932, 934, 936,\n",
       "       938, 940, 942, 944, 946, 948, 950, 952, 954, 956, 958, 960, 962,\n",
       "       964, 966, 968, 970, 972, 974, 976, 978, 980, 982, 984, 986, 988,\n",
       "       990, 992, 994, 996, 998])"
      ]
     },
     "execution_count": 7,
     "metadata": {},
     "output_type": "execute_result"
    }
   ],
   "source": [
    "# 5\n",
    "np.arange(2, 1000, 2)"
   ]
  },
  {
   "cell_type": "code",
   "execution_count": 8,
   "id": "7c29ff11-a3c1-45a8-bd5f-d2ef63dfd1d0",
   "metadata": {},
   "outputs": [
    {
     "data": {
      "text/plain": [
       "array([0. , 0.1, 0.2, 0.3, 0.4, 0.5, 0.6, 0.7, 0.8, 0.9])"
      ]
     },
     "execution_count": 8,
     "metadata": {},
     "output_type": "execute_result"
    }
   ],
   "source": [
    "# 6\n",
    "np.arange(0, 1, 0.1)"
   ]
  },
  {
   "cell_type": "code",
   "execution_count": 9,
   "id": "5aacfec5-27d2-46b4-8eb5-ca71aaba0c67",
   "metadata": {},
   "outputs": [
    {
     "data": {
      "text/plain": [
       "array([[0, 1, 2],\n",
       "       [3, 4, 5]])"
      ]
     },
     "execution_count": 9,
     "metadata": {},
     "output_type": "execute_result"
    }
   ],
   "source": [
    "# 7\n",
    "data = [0, 1, 2, 3, 4, 5]\n",
    "np.array(data).reshape(2, 3)"
   ]
  },
  {
   "cell_type": "code",
   "execution_count": 10,
   "id": "633ab28d-1a3b-4275-b809-1baec9b67837",
   "metadata": {},
   "outputs": [
    {
     "data": {
      "text/plain": [
       "array([0, 1, 2, 3, 4, 5])"
      ]
     },
     "execution_count": 10,
     "metadata": {},
     "output_type": "execute_result"
    }
   ],
   "source": [
    "# 8\n",
    "arr = np.array([\n",
    "    [0, 1, 2],\n",
    "    [3, 4, 5]\n",
    "])\n",
    "\n",
    "arr.reshape(6,)"
   ]
  },
  {
   "cell_type": "code",
   "execution_count": 11,
   "id": "208b2bbd-b62d-476b-8606-5652c9e0f618",
   "metadata": {},
   "outputs": [
    {
     "data": {
      "text/plain": [
       "array([0, 1, 2, 3, 4, 5])"
      ]
     },
     "execution_count": 11,
     "metadata": {},
     "output_type": "execute_result"
    }
   ],
   "source": [
    "# 8번 정답\n",
    "arr.flatten()"
   ]
  },
  {
   "cell_type": "code",
   "execution_count": 12,
   "id": "6ca3a563-8d2e-40e5-bc64-052a13524e4b",
   "metadata": {},
   "outputs": [
    {
     "data": {
      "text/plain": [
       "array([[0],\n",
       "       [1],\n",
       "       [2]])"
      ]
     },
     "execution_count": 12,
     "metadata": {},
     "output_type": "execute_result"
    }
   ],
   "source": [
    "# 9\n",
    "arr = np.arange(3)\n",
    "arr.reshape(3, 1)"
   ]
  },
  {
   "cell_type": "code",
   "execution_count": 13,
   "id": "14549265-49d6-4411-9dc1-18f0632caece",
   "metadata": {},
   "outputs": [
    {
     "ename": "ValueError",
     "evalue": "cannot reshape array of size 6 into shape (2,4)",
     "output_type": "error",
     "traceback": [
      "\u001b[1;31m---------------------------------------------------------------------------\u001b[0m",
      "\u001b[1;31mValueError\u001b[0m                                Traceback (most recent call last)",
      "Cell \u001b[1;32mIn[13], line 2\u001b[0m\n\u001b[0;32m      1\u001b[0m \u001b[38;5;66;03m# 10\u001b[39;00m\n\u001b[1;32m----> 2\u001b[0m \u001b[43mnp\u001b[49m\u001b[38;5;241;43m.\u001b[39;49m\u001b[43marange\u001b[49m\u001b[43m(\u001b[49m\u001b[38;5;241;43m6\u001b[39;49m\u001b[43m)\u001b[49m\u001b[38;5;241;43m.\u001b[39;49m\u001b[43mreshape\u001b[49m\u001b[43m(\u001b[49m\u001b[38;5;241;43m2\u001b[39;49m\u001b[43m,\u001b[49m\u001b[43m \u001b[49m\u001b[38;5;241;43m4\u001b[39;49m\u001b[43m)\u001b[49m\n",
      "\u001b[1;31mValueError\u001b[0m: cannot reshape array of size 6 into shape (2,4)"
     ]
    }
   ],
   "source": [
    "# 10\n",
    "np.arange(6).reshape(2, 4)"
   ]
  },
  {
   "cell_type": "markdown",
   "id": "f8e4b958-fed4-4851-923a-a45d62acf9b9",
   "metadata": {},
   "source": [
    "### 에러 원인 설명\n",
    "- 요소가 총 6개인데 총 8개인 2x4 로 바꿈"
   ]
  },
  {
   "cell_type": "code",
   "execution_count": 14,
   "id": "246f19a2-8c37-46b4-9f01-05d2256d6ab5",
   "metadata": {},
   "outputs": [
    {
     "data": {
      "text/plain": [
       "array([[0, 1, 2],\n",
       "       [3, 4, 5]])"
      ]
     },
     "execution_count": 14,
     "metadata": {},
     "output_type": "execute_result"
    }
   ],
   "source": [
    "# 10\n",
    "np.arange(6).reshape(2, 3)"
   ]
  },
  {
   "cell_type": "markdown",
   "id": "c8134a70-e6d4-4daa-ae28-d14df9176062",
   "metadata": {},
   "source": [
    "## 문제 11 ~ 20"
   ]
  },
  {
   "cell_type": "code",
   "execution_count": 15,
   "id": "bb6ffe23-94b8-403b-a2ad-146b6e05c53d",
   "metadata": {},
   "outputs": [],
   "source": [
    "# 11\n",
    "arr = np.array([[0, 1, 2],\n",
    " [3, 4, 5]])"
   ]
  },
  {
   "cell_type": "code",
   "execution_count": 16,
   "id": "36881007-a134-4e14-8e1e-57503fd04603",
   "metadata": {},
   "outputs": [
    {
     "data": {
      "text/plain": [
       "array([1., 1., 1., 1., 1., 1., 1., 1., 1., 1., 1., 1., 1., 1., 1., 1., 1.,\n",
       "       1., 1., 1.])"
      ]
     },
     "execution_count": 16,
     "metadata": {},
     "output_type": "execute_result"
    }
   ],
   "source": [
    "# 12\n",
    "np.ones(20)"
   ]
  },
  {
   "cell_type": "code",
   "execution_count": 17,
   "id": "9e8a90d9-2b08-4c95-bcf9-e68ac4d48249",
   "metadata": {},
   "outputs": [
    {
     "data": {
      "text/plain": [
       "array([1, 1, 1, 1, 1, 1, 1, 1, 1, 1, 1, 1, 1, 1, 1, 1, 1, 1, 1, 1])"
      ]
     },
     "execution_count": 17,
     "metadata": {},
     "output_type": "execute_result"
    }
   ],
   "source": [
    "# 12 정답\n",
    "np.ones(20, dtype=int)"
   ]
  },
  {
   "cell_type": "code",
   "execution_count": 18,
   "id": "4d9f5dad-bea7-4e14-a98e-e3a8d8b22977",
   "metadata": {},
   "outputs": [
    {
     "ename": "TypeError",
     "evalue": "ones() got multiple values for argument 'dtype'",
     "output_type": "error",
     "traceback": [
      "\u001b[1;31m---------------------------------------------------------------------------\u001b[0m",
      "\u001b[1;31mTypeError\u001b[0m                                 Traceback (most recent call last)",
      "Cell \u001b[1;32mIn[18], line 2\u001b[0m\n\u001b[0;32m      1\u001b[0m \u001b[38;5;66;03m# 13\u001b[39;00m\n\u001b[1;32m----> 2\u001b[0m \u001b[43mnp\u001b[49m\u001b[38;5;241;43m.\u001b[39;49m\u001b[43mones\u001b[49m\u001b[43m(\u001b[49m\u001b[38;5;241;43m20\u001b[39;49m\u001b[43m,\u001b[49m\u001b[43m \u001b[49m\u001b[43m(\u001b[49m\u001b[38;5;241;43m4\u001b[39;49m\u001b[43m,\u001b[49m\u001b[43m \u001b[49m\u001b[38;5;241;43m5\u001b[39;49m\u001b[43m)\u001b[49m\u001b[43m,\u001b[49m\u001b[43m \u001b[49m\u001b[43mdtype\u001b[49m\u001b[38;5;241;43m=\u001b[39;49m\u001b[38;5;28;43mint\u001b[39;49m\u001b[43m)\u001b[49m\n",
      "\u001b[1;31mTypeError\u001b[0m: ones() got multiple values for argument 'dtype'"
     ]
    }
   ],
   "source": [
    "# 13\n",
    "np.ones(20, (4, 5), dtype=int)"
   ]
  },
  {
   "cell_type": "code",
   "execution_count": 19,
   "id": "a83e4bb5-9f1a-4da1-9da7-f8fa114cc5a5",
   "metadata": {},
   "outputs": [
    {
     "data": {
      "text/plain": [
       "array([[1, 1, 1, 1, 1],\n",
       "       [1, 1, 1, 1, 1],\n",
       "       [1, 1, 1, 1, 1],\n",
       "       [1, 1, 1, 1, 1]])"
      ]
     },
     "execution_count": 19,
     "metadata": {},
     "output_type": "execute_result"
    }
   ],
   "source": [
    "# 13 다시시도\n",
    "np.ones((4, 5), dtype=int) "
   ]
  },
  {
   "cell_type": "code",
   "execution_count": 20,
   "id": "7d0b0413-0d9e-4d33-97dc-14b331a49e0e",
   "metadata": {},
   "outputs": [
    {
     "data": {
      "text/plain": [
       "array([[1, 1, 1, 1, 1],\n",
       "       [1, 1, 1, 1, 1],\n",
       "       [1, 1, 1, 1, 1],\n",
       "       [1, 1, 1, 1, 1]])"
      ]
     },
     "execution_count": 20,
     "metadata": {},
     "output_type": "execute_result"
    }
   ],
   "source": [
    "# 13 정답\n",
    "np.ones(20, dtype=int).reshape(4, 5)"
   ]
  },
  {
   "cell_type": "code",
   "execution_count": 21,
   "id": "319e42b3-19a7-4a53-a0e5-9f5228026487",
   "metadata": {},
   "outputs": [
    {
     "data": {
      "text/plain": [
       "array([[255, 255, 255, 255, 255, 255, 255, 255, 255, 255],\n",
       "       [255, 255, 255, 255, 255, 255, 255, 255, 255, 255],\n",
       "       [255, 255, 255, 255, 255, 255, 255, 255, 255, 255],\n",
       "       [255, 255, 255, 255, 255, 255, 255, 255, 255, 255],\n",
       "       [255, 255, 255, 255, 255, 255, 255, 255, 255, 255],\n",
       "       [255, 255, 255, 255, 255, 255, 255, 255, 255, 255],\n",
       "       [255, 255, 255, 255, 255, 255, 255, 255, 255, 255],\n",
       "       [255, 255, 255, 255, 255, 255, 255, 255, 255, 255],\n",
       "       [255, 255, 255, 255, 255, 255, 255, 255, 255, 255],\n",
       "       [255, 255, 255, 255, 255, 255, 255, 255, 255, 255]])"
      ]
     },
     "execution_count": 21,
     "metadata": {},
     "output_type": "execute_result"
    }
   ],
   "source": [
    "# 14\n",
    "num = [255] * 100\n",
    "np.array(num).reshape(10, 10)"
   ]
  },
  {
   "cell_type": "code",
   "execution_count": 22,
   "id": "2c9ef133-a9df-4267-8846-522fc7736051",
   "metadata": {},
   "outputs": [
    {
     "data": {
      "text/plain": [
       "array([[255, 255, 255, 255, 255, 255, 255, 255, 255, 255],\n",
       "       [255, 255, 255, 255, 255, 255, 255, 255, 255, 255],\n",
       "       [255, 255, 255, 255, 255, 255, 255, 255, 255, 255],\n",
       "       [255, 255, 255, 255, 255, 255, 255, 255, 255, 255],\n",
       "       [255, 255, 255, 255, 255, 255, 255, 255, 255, 255],\n",
       "       [255, 255, 255, 255, 255, 255, 255, 255, 255, 255],\n",
       "       [255, 255, 255, 255, 255, 255, 255, 255, 255, 255],\n",
       "       [255, 255, 255, 255, 255, 255, 255, 255, 255, 255],\n",
       "       [255, 255, 255, 255, 255, 255, 255, 255, 255, 255],\n",
       "       [255, 255, 255, 255, 255, 255, 255, 255, 255, 255]])"
      ]
     },
     "execution_count": 22,
     "metadata": {},
     "output_type": "execute_result"
    }
   ],
   "source": [
    "# 14 정답\n",
    "arr = np.ones(100, dtype=int).reshape(10, 10)\n",
    "arr = arr * 255\n",
    "arr"
   ]
  },
  {
   "cell_type": "code",
   "execution_count": 23,
   "id": "db9cef14-a5eb-4dbd-abbc-4bfc15519bdb",
   "metadata": {},
   "outputs": [
    {
     "data": {
      "text/plain": [
       "array([[0, 0, 0, 0],\n",
       "       [0, 0, 0, 0],\n",
       "       [0, 0, 0, 0]])"
      ]
     },
     "execution_count": 23,
     "metadata": {},
     "output_type": "execute_result"
    }
   ],
   "source": [
    "# 15\n",
    "np.zeros((3, 4), dtype = int)"
   ]
  },
  {
   "cell_type": "code",
   "execution_count": 24,
   "id": "6c730fe7-8677-4ec4-99ab-aa51b9b4b75d",
   "metadata": {},
   "outputs": [
    {
     "data": {
      "text/plain": [
       "array([1, 2, 3])"
      ]
     },
     "execution_count": 24,
     "metadata": {},
     "output_type": "execute_result"
    }
   ],
   "source": [
    "# 16\n",
    "list = [1, 2, 3]\n",
    "np.array(list, dtype=np.int32)"
   ]
  },
  {
   "cell_type": "code",
   "execution_count": 25,
   "id": "db4659fa-2ec8-479c-b1c1-71bfa0ff0b84",
   "metadata": {},
   "outputs": [
    {
     "data": {
      "text/plain": [
       "array([[[0, 1, 2],\n",
       "        [3, 4, 5]]])"
      ]
     },
     "execution_count": 25,
     "metadata": {},
     "output_type": "execute_result"
    }
   ],
   "source": [
    "# 16 정답\n",
    "data = [1, 2, 3]\n",
    "arr_s = np.ndarray(data, dtype=np.int32)\n",
    "arr_s\n",
    "# 또잉??????????"
   ]
  },
  {
   "cell_type": "code",
   "execution_count": 26,
   "id": "0f68ca1e-ccc6-4b44-ada4-b537fe48adc3",
   "metadata": {},
   "outputs": [
    {
     "ename": "TypeError",
     "evalue": "'module' object is not callable",
     "output_type": "error",
     "traceback": [
      "\u001b[1;31m---------------------------------------------------------------------------\u001b[0m",
      "\u001b[1;31mTypeError\u001b[0m                                 Traceback (most recent call last)",
      "Cell \u001b[1;32mIn[26], line 3\u001b[0m\n\u001b[0;32m      1\u001b[0m \u001b[38;5;66;03m# 17\u001b[39;00m\n\u001b[0;32m      2\u001b[0m arr_1 \u001b[38;5;241m=\u001b[39m np\u001b[38;5;241m.\u001b[39marray([\u001b[38;5;241m1\u001b[39m, \u001b[38;5;241m2\u001b[39m, \u001b[38;5;241m3\u001b[39m])\n\u001b[1;32m----> 3\u001b[0m \u001b[43mnp\u001b[49m\u001b[38;5;241;43m.\u001b[39;49m\u001b[43mdtypes\u001b[49m\u001b[43m(\u001b[49m\u001b[43marr_1\u001b[49m\u001b[43m)\u001b[49m\n",
      "\u001b[1;31mTypeError\u001b[0m: 'module' object is not callable"
     ]
    }
   ],
   "source": [
    "# 17\n",
    "arr_1 = np.array([1, 2, 3])\n",
    "np.dtypes(arr_1)"
   ]
  },
  {
   "cell_type": "code",
   "execution_count": 27,
   "id": "5b9f269d-5ef7-47ba-bb64-3cb755c738ee",
   "metadata": {},
   "outputs": [
    {
     "name": "stdout",
     "output_type": "stream",
     "text": [
      "int32\n"
     ]
    }
   ],
   "source": [
    "# 17 정답\n",
    "print(arr_1.dtype)"
   ]
  },
  {
   "cell_type": "code",
   "execution_count": 28,
   "id": "c1a65900-b2fb-4bd5-a700-7c8f5e1c6a4b",
   "metadata": {},
   "outputs": [
    {
     "data": {
      "text/plain": [
       "dtype('<U1')"
      ]
     },
     "execution_count": 28,
     "metadata": {},
     "output_type": "execute_result"
    }
   ],
   "source": [
    "# 18\n",
    "arr = np.array(['1', '2', '3'])\n",
    "arr.dtype"
   ]
  },
  {
   "cell_type": "code",
   "execution_count": 29,
   "id": "6f2e4415-9b1f-48ae-a16c-a424f67bd3ee",
   "metadata": {},
   "outputs": [
    {
     "data": {
      "text/plain": [
       "array([[[49,  0, 50],\n",
       "        [ 0, 51,  0]]], dtype=int16)"
      ]
     },
     "execution_count": 29,
     "metadata": {},
     "output_type": "execute_result"
    }
   ],
   "source": [
    "# 19\n",
    "arr = np.array([1, 2, 3])\n",
    "np.ndarray(arr, dtype=np.int16)"
   ]
  },
  {
   "cell_type": "code",
   "execution_count": 30,
   "id": "8279d397-3dcc-4269-a3cb-8d6332406efd",
   "metadata": {},
   "outputs": [
    {
     "data": {
      "text/plain": [
       "array([1, 2, 3], dtype=int16)"
      ]
     },
     "execution_count": 30,
     "metadata": {},
     "output_type": "execute_result"
    }
   ],
   "source": [
    "# 19 정답\n",
    "arr.astype(np.int16)"
   ]
  },
  {
   "cell_type": "code",
   "execution_count": 31,
   "id": "8d6339f7-7a4f-4cf2-a3ef-5e4eb12f8cbd",
   "metadata": {},
   "outputs": [
    {
     "name": "stderr",
     "output_type": "stream",
     "text": [
      "C:\\Users\\박해극\\AppData\\Local\\Temp\\ipykernel_7260\\1541953962.py:2: DeprecationWarning: NumPy will stop allowing conversion of out-of-bound Python integers to integer arrays.  The conversion of 300 to uint8 will fail in the future.\n",
      "For the old behavior, usually:\n",
      "    np.array(value).astype(dtype)\n",
      "will give the desired result (the cast overflows).\n",
      "  a = np.array([ 255, 300, 128], dtype=np.uint8)\n"
     ]
    },
    {
     "data": {
      "text/plain": [
       "array([255,  44, 128], dtype=uint8)"
      ]
     },
     "execution_count": 31,
     "metadata": {},
     "output_type": "execute_result"
    }
   ],
   "source": [
    "# 20\n",
    "a = np.array([ 255, 300, 128], dtype=np.uint8)\n",
    "a"
   ]
  },
  {
   "cell_type": "markdown",
   "id": "2d7c0dfa-ed41-4661-9ffe-74e29c1e8bb4",
   "metadata": {},
   "source": [
    "### 20번 답\n",
    "`uint8`은 부호 없는 8비트 정수를 표현합니다. 0부터 2^8 -1 범위의 수를 표현\n",
    "범위의 수를 표현할 수 있습니다. 300은 `uint8`이 표현할 수 있는 범위를 넘기 때문에 잘못된 값이 출력됩니다."
   ]
  },
  {
   "cell_type": "markdown",
   "id": "1284a6de-f909-4262-9f4f-e8c93bb6de9b",
   "metadata": {},
   "source": [
    "## 문제 21~30"
   ]
  },
  {
   "cell_type": "code",
   "execution_count": 32,
   "id": "d6b4a0b1-e6dd-4b1d-ad87-d210d2bc373d",
   "metadata": {},
   "outputs": [
    {
     "data": {
      "text/plain": [
       "array([1, 2, 3])"
      ]
     },
     "execution_count": 32,
     "metadata": {},
     "output_type": "execute_result"
    }
   ],
   "source": [
    "# 21\n",
    "arr = np.array([1.1, 2.1, 3.1])\n",
    "arr.astype(np.int32)"
   ]
  },
  {
   "cell_type": "code",
   "execution_count": 33,
   "id": "9c98ff75-1c58-4379-b0c8-6062bc39bc10",
   "metadata": {},
   "outputs": [
    {
     "data": {
      "text/plain": [
       "array([ 0.        ,  0.52631579,  1.05263158,  1.57894737,  2.10526316,\n",
       "        2.63157895,  3.15789474,  3.68421053,  4.21052632,  4.73684211,\n",
       "        5.26315789,  5.78947368,  6.31578947,  6.84210526,  7.36842105,\n",
       "        7.89473684,  8.42105263,  8.94736842,  9.47368421, 10.        ])"
      ]
     },
     "execution_count": 33,
     "metadata": {},
     "output_type": "execute_result"
    }
   ],
   "source": [
    "# 22\n",
    "np.linspace(0, 10, num=20)"
   ]
  },
  {
   "cell_type": "code",
   "execution_count": 34,
   "id": "819cd147-03cb-4596-b361-ce38a2c3ff06",
   "metadata": {},
   "outputs": [
    {
     "data": {
      "text/plain": [
       "array([6, 7, 8])"
      ]
     },
     "execution_count": 34,
     "metadata": {},
     "output_type": "execute_result"
    }
   ],
   "source": [
    "# 23\n",
    "arr = np.arange(9).reshape(3, 3)\n",
    "arr[2]"
   ]
  },
  {
   "cell_type": "code",
   "execution_count": 35,
   "id": "c3a0e100-9832-4303-a9ce-99ba43882460",
   "metadata": {},
   "outputs": [
    {
     "data": {
      "text/plain": [
       "array([6, 7, 8])"
      ]
     },
     "execution_count": 35,
     "metadata": {},
     "output_type": "execute_result"
    }
   ],
   "source": [
    "# 23 정답\n",
    "arr[2]"
   ]
  },
  {
   "cell_type": "code",
   "execution_count": 36,
   "id": "c0d83163-3467-4557-abcc-34b00d1f95f3",
   "metadata": {},
   "outputs": [
    {
     "data": {
      "text/plain": [
       "array([1, 4, 7])"
      ]
     },
     "execution_count": 36,
     "metadata": {},
     "output_type": "execute_result"
    }
   ],
   "source": [
    "# 24\n",
    "arr = np.arange(9).reshape(3, 3)\n",
    "arr[:, 1]"
   ]
  },
  {
   "cell_type": "code",
   "execution_count": 37,
   "id": "7118d16d-226d-4b5d-88f1-3d1e3714de5d",
   "metadata": {},
   "outputs": [
    {
     "data": {
      "text/plain": [
       "12"
      ]
     },
     "execution_count": 37,
     "metadata": {},
     "output_type": "execute_result"
    }
   ],
   "source": [
    "# 25\n",
    "arr = np.arange(25).reshape(5, 5)\n",
    "arr[2][2]"
   ]
  },
  {
   "cell_type": "code",
   "execution_count": 38,
   "id": "7f84dffe-44e5-4006-8ee1-4f6c41f9a7c5",
   "metadata": {},
   "outputs": [
    {
     "data": {
      "text/plain": [
       "17"
      ]
     },
     "execution_count": 38,
     "metadata": {},
     "output_type": "execute_result"
    }
   ],
   "source": [
    "# 25 정답\n",
    "arr[3, 2]"
   ]
  },
  {
   "cell_type": "code",
   "execution_count": 39,
   "id": "705d5bc2-aa0b-4ed5-85d3-397ef66a5aa7",
   "metadata": {},
   "outputs": [
    {
     "data": {
      "text/plain": [
       "array([1, 3])"
      ]
     },
     "execution_count": 39,
     "metadata": {},
     "output_type": "execute_result"
    }
   ],
   "source": [
    "# 26\n",
    "arr = np.arange(5)\n",
    "arr[1:4:2]"
   ]
  },
  {
   "cell_type": "code",
   "execution_count": 40,
   "id": "0c77c04c-0882-4d43-91ed-10ed0528e2db",
   "metadata": {},
   "outputs": [
    {
     "data": {
      "text/plain": [
       "array([1, 3])"
      ]
     },
     "execution_count": 40,
     "metadata": {},
     "output_type": "execute_result"
    }
   ],
   "source": [
    "# 26 정답\n",
    "arr[[1, 3]]"
   ]
  },
  {
   "cell_type": "code",
   "execution_count": 45,
   "id": "a4e973cd-482d-45a5-8c10-3476ceae5ee5",
   "metadata": {},
   "outputs": [
    {
     "data": {
      "text/plain": [
       "array([6, 7, 8, 9])"
      ]
     },
     "execution_count": 45,
     "metadata": {},
     "output_type": "execute_result"
    }
   ],
   "source": [
    "# 27\n",
    "arr = np.arange(25).reshape(5,5)\n",
    "arr[1, 1:]"
   ]
  },
  {
   "cell_type": "code",
   "execution_count": 41,
   "id": "cdf23748-3c98-4a23-8a40-e88fff95b61f",
   "metadata": {},
   "outputs": [
    {
     "data": {
      "text/plain": [
       "array([[ 0,  1],\n",
       "       [ 5,  6],\n",
       "       [10, 11],\n",
       "       [15, 16],\n",
       "       [20, 21]])"
      ]
     },
     "execution_count": 41,
     "metadata": {},
     "output_type": "execute_result"
    }
   ],
   "source": [
    "# 28\n",
    "arr = np.arange(25).reshape(5, 5)\n",
    "arr[:, 0:2]"
   ]
  },
  {
   "cell_type": "code",
   "execution_count": 42,
   "id": "902b80a6-d0af-4ae1-b572-cf457ba39bd1",
   "metadata": {},
   "outputs": [
    {
     "data": {
      "text/plain": [
       "array([[ 6,  7],\n",
       "       [11, 12]])"
      ]
     },
     "execution_count": 42,
     "metadata": {},
     "output_type": "execute_result"
    }
   ],
   "source": [
    "# 29\n",
    "arr = np.arange(25).reshape(5, 5)\n",
    "arr[1:3, 1:3]"
   ]
  },
  {
   "cell_type": "code",
   "execution_count": 43,
   "id": "c5f28f58-df78-4820-a19e-826cd146a788",
   "metadata": {},
   "outputs": [
    {
     "data": {
      "text/plain": [
       "array([[ 0,  1,  2,  3,  4],\n",
       "       [ 5,  6,  7,  8,  9],\n",
       "       [10, 11, 12, 13, 14],\n",
       "       [15, 16, 17, 18, 19],\n",
       "       [20, 21, 22, 23, 24]])"
      ]
     },
     "execution_count": 43,
     "metadata": {},
     "output_type": "execute_result"
    }
   ],
   "source": [
    "arr"
   ]
  },
  {
   "cell_type": "code",
   "execution_count": 49,
   "id": "fe38395f-9d17-4d06-81c1-c49286e9d38c",
   "metadata": {},
   "outputs": [
    {
     "data": {
      "text/plain": [
       "array([[ 0,  3],\n",
       "       [20, 23]])"
      ]
     },
     "execution_count": 49,
     "metadata": {},
     "output_type": "execute_result"
    }
   ],
   "source": [
    "# 30 정\n",
    "result = arr[[0, 0, -1, -1], [0, 3, 0, 3]].reshape(2, 2)\n",
    "result"
   ]
  },
  {
   "cell_type": "markdown",
   "id": "7256179d-3bb8-46f7-b1c2-dbb5ff62d86d",
   "metadata": {},
   "source": [
    "## 문제 31~40"
   ]
  },
  {
   "cell_type": "code",
   "execution_count": 50,
   "id": "0e709144-e2b3-4e66-85c3-7dfe7c23751f",
   "metadata": {},
   "outputs": [
    {
     "data": {
      "text/plain": [
       "array([10, 20, 30])"
      ]
     },
     "execution_count": 50,
     "metadata": {},
     "output_type": "execute_result"
    }
   ],
   "source": [
    "# 31\n",
    "data = [1, 2, 3]\n",
    "np.array(data)*10"
   ]
  },
  {
   "cell_type": "code",
   "execution_count": 56,
   "id": "92595020-9dc7-4956-a63c-598d04dd8a57",
   "metadata": {},
   "outputs": [
    {
     "ename": "TypeError",
     "evalue": "'list' object is not callable",
     "output_type": "error",
     "traceback": [
      "\u001b[1;31m---------------------------------------------------------------------------\u001b[0m",
      "\u001b[1;31mTypeError\u001b[0m                                 Traceback (most recent call last)",
      "Cell \u001b[1;32mIn[56], line 3\u001b[0m\n\u001b[0;32m      1\u001b[0m \u001b[38;5;66;03m# 32\u001b[39;00m\n\u001b[0;32m      2\u001b[0m arr \u001b[38;5;241m=\u001b[39m np\u001b[38;5;241m.\u001b[39marray(data)\n\u001b[1;32m----> 3\u001b[0m \u001b[38;5;28;43mlist\u001b[39;49m\u001b[43m(\u001b[49m\u001b[38;5;28;43mmap\u001b[39;49m\u001b[43m(\u001b[49m\u001b[38;5;28;43;01mlambda\u001b[39;49;00m\u001b[43m \u001b[49m\u001b[43mx\u001b[49m\u001b[43m:\u001b[49m\u001b[43m \u001b[49m\u001b[43mx\u001b[49m\u001b[38;5;241;43m*\u001b[39;49m\u001b[43mx\u001b[49m\u001b[43m,\u001b[49m\u001b[43m \u001b[49m\u001b[43marr\u001b[49m\u001b[43m)\u001b[49m\u001b[43m)\u001b[49m\n",
      "\u001b[1;31mTypeError\u001b[0m: 'list' object is not callable"
     ]
    }
   ],
   "source": [
    "# 32\n",
    "arr = np.array(data)\n",
    "list(map(lambda x: x*x, arr))"
   ]
  },
  {
   "cell_type": "code",
   "execution_count": 57,
   "id": "6e6bcf1e-4f49-4bf4-9690-201e875e9fbf",
   "metadata": {},
   "outputs": [],
   "source": [
    "# 32 정답\n",
    "result = np.array(data) ** 2"
   ]
  },
  {
   "cell_type": "code",
   "execution_count": 60,
   "id": "10da5aa3-2fce-4a7b-9a61-d027247d15c0",
   "metadata": {},
   "outputs": [
    {
     "data": {
      "text/plain": [
       "array([1.        , 1.41421356, 1.73205081])"
      ]
     },
     "execution_count": 60,
     "metadata": {},
     "output_type": "execute_result"
    }
   ],
   "source": [
    "# 33\n",
    "np.array(data) ** 0.5"
   ]
  },
  {
   "cell_type": "code",
   "execution_count": 59,
   "id": "1e00c024-b508-41c3-84e2-3adb84d1cefc",
   "metadata": {},
   "outputs": [
    {
     "data": {
      "text/plain": [
       "array([1.        , 1.41421356, 1.73205081])"
      ]
     },
     "execution_count": 59,
     "metadata": {},
     "output_type": "execute_result"
    }
   ],
   "source": [
    "# 33 정답\n",
    "np.sqrt(data)"
   ]
  },
  {
   "cell_type": "code",
   "execution_count": 67,
   "id": "7c347e89-4310-4c9d-b77b-6b650bcf2418",
   "metadata": {},
   "outputs": [
    {
     "name": "stdout",
     "output_type": "stream",
     "text": [
      "12.0\n",
      "18.0\n"
     ]
    }
   ],
   "source": [
    "# 34\n",
    "score = np.array([\n",
    "    [10, 20],  # 중간고사\n",
    "    [14, 16]   # 기말고사\n",
    "])\n",
    "print(np.mean(score[:,0]))\n",
    "print(np.mean(score[:,1]))"
   ]
  },
  {
   "cell_type": "code",
   "execution_count": 68,
   "id": "57e26051-ec31-46ab-a81e-c9561a10f1b1",
   "metadata": {},
   "outputs": [
    {
     "data": {
      "text/plain": [
       "array([12., 18.])"
      ]
     },
     "execution_count": 68,
     "metadata": {},
     "output_type": "execute_result"
    }
   ],
   "source": [
    "# 34 정답\n",
    "score.mean(axis=0)"
   ]
  },
  {
   "cell_type": "code",
   "execution_count": 70,
   "id": "9a31bdb7-6449-4e06-a51b-0823bac3395b",
   "metadata": {},
   "outputs": [
    {
     "data": {
      "text/plain": [
       "array([5., 1.])"
      ]
     },
     "execution_count": 70,
     "metadata": {},
     "output_type": "execute_result"
    }
   ],
   "source": [
    "# 35\n",
    "score.std(axis=1)"
   ]
  },
  {
   "cell_type": "code",
   "execution_count": 71,
   "id": "9dbdd784-0a9b-4961-a36b-232a4150f017",
   "metadata": {},
   "outputs": [
    {
     "data": {
      "text/plain": [
       "array([[ 3,  4],\n",
       "       [11, 16]])"
      ]
     },
     "execution_count": 71,
     "metadata": {},
     "output_type": "execute_result"
    }
   ],
   "source": [
    "# 36\n",
    "a = np.arange(4).reshape(2,2)\n",
    "b = np.arange(1, 5).reshape(2,2)\n",
    "np.matmul(a, b)"
   ]
  },
  {
   "cell_type": "code",
   "execution_count": 73,
   "id": "809e0b00-f115-410e-833b-8f137cd4f8cf",
   "metadata": {},
   "outputs": [
    {
     "data": {
      "text/plain": [
       "array([[0, 3, 6],\n",
       "       [1, 4, 7],\n",
       "       [2, 5, 8]])"
      ]
     },
     "execution_count": 73,
     "metadata": {},
     "output_type": "execute_result"
    }
   ],
   "source": [
    "# 37\n",
    "arr = np.arange(9).reshape(3, 3)\n",
    "arr.transpose()"
   ]
  },
  {
   "cell_type": "code",
   "execution_count": 76,
   "id": "157fc775-4768-45fc-a8e2-868c31a250c8",
   "metadata": {},
   "outputs": [
    {
     "data": {
      "text/plain": [
       "array([0, 2, 4, 6, 8])"
      ]
     },
     "execution_count": 76,
     "metadata": {},
     "output_type": "execute_result"
    }
   ],
   "source": [
    "# 38\n",
    "arr = np.arange(10)\n",
    "arr[0::2]"
   ]
  },
  {
   "cell_type": "code",
   "execution_count": 77,
   "id": "7829bcc3-3598-441f-8cb1-eb623d12a51f",
   "metadata": {},
   "outputs": [
    {
     "data": {
      "text/plain": [
       "array([1, 3, 5, 7, 9])"
      ]
     },
     "execution_count": 77,
     "metadata": {},
     "output_type": "execute_result"
    }
   ],
   "source": [
    "# 39\n",
    "arr[1::2]"
   ]
  },
  {
   "cell_type": "code",
   "execution_count": 78,
   "id": "c4aa0de8-27ce-46ad-9449-845dd7d58016",
   "metadata": {},
   "outputs": [
    {
     "data": {
      "text/plain": [
       "array([4, 5, 6])"
      ]
     },
     "execution_count": 78,
     "metadata": {},
     "output_type": "execute_result"
    }
   ],
   "source": [
    "# 40\n",
    "arr[(arr > 3) & (arr < 7)]"
   ]
  },
  {
   "cell_type": "markdown",
   "id": "b30cd48f-e83d-4653-8b92-c060dc00f39b",
   "metadata": {},
   "source": [
    "## 문제 41~50"
   ]
  },
  {
   "cell_type": "code",
   "execution_count": 79,
   "id": "333e1ec2-fbd3-48a7-859f-c9c6d86c36dd",
   "metadata": {},
   "outputs": [
    {
     "data": {
      "text/plain": [
       "array([-1, -3])"
      ]
     },
     "execution_count": 79,
     "metadata": {},
     "output_type": "execute_result"
    }
   ],
   "source": [
    "# 41\n",
    "arr = np.array([-1, 2, -3, 4])\n",
    "mask = arr < 0\n",
    "arr[mask]"
   ]
  },
  {
   "cell_type": "code",
   "execution_count": 80,
   "id": "7ee00dc0-5ce3-45a0-81eb-b912aab32df8",
   "metadata": {},
   "outputs": [
    {
     "data": {
      "text/plain": [
       "array([0, 2, 0, 4])"
      ]
     },
     "execution_count": 80,
     "metadata": {},
     "output_type": "execute_result"
    }
   ],
   "source": [
    "# 42\n",
    "arr[mask] = 0\n",
    "arr"
   ]
  },
  {
   "cell_type": "code",
   "execution_count": 87,
   "id": "5bcac2aa-406e-4e92-9ff0-525a6a2a8af6",
   "metadata": {},
   "outputs": [
    {
     "data": {
      "text/plain": [
       "array([1, 2, 3, 4])"
      ]
     },
     "execution_count": 87,
     "metadata": {},
     "output_type": "execute_result"
    }
   ],
   "source": [
    "# 43\n",
    "array = np.array([-1, 2, -3, 4])\n",
    "np.array(__builtins__.list(map(lambda x: -x if x < 0 else x, array)))"
   ]
  },
  {
   "cell_type": "code",
   "execution_count": 88,
   "id": "fc2cd022-61ef-40b8-a755-3064a7241883",
   "metadata": {},
   "outputs": [],
   "source": [
    "# 43 정답\n",
    "cond = array < 0\n",
    "array[cond] = -array[cond]\n",
    "# or abs(array)"
   ]
  },
  {
   "cell_type": "code",
   "execution_count": 89,
   "id": "d909700c-b6b4-4a5c-bf0d-f098cd43cc02",
   "metadata": {},
   "outputs": [
    {
     "data": {
      "text/plain": [
       "array([ 9, -8,  7, -6])"
      ]
     },
     "execution_count": 89,
     "metadata": {},
     "output_type": "execute_result"
    }
   ],
   "source": [
    "# 44\n",
    "num = np.array([-1, 2, -3, 4])\n",
    "np.array(__builtins__.list(map(lambda x: x + 10 if x < 0 else x - 10, array)))"
   ]
  },
  {
   "cell_type": "code",
   "execution_count": 91,
   "id": "28245ced-f678-41be-9de0-edce6981635e",
   "metadata": {},
   "outputs": [
    {
     "data": {
      "text/plain": [
       "array([ 9, -8,  7, -6])"
      ]
     },
     "execution_count": 91,
     "metadata": {},
     "output_type": "execute_result"
    }
   ],
   "source": [
    "# 44 정답\n",
    "np.where(num >= 0, num - 10, num + 10)"
   ]
  },
  {
   "cell_type": "code",
   "execution_count": 97,
   "id": "be73ae1f-aaf2-4cd1-a5ae-c15bf29fb81d",
   "metadata": {},
   "outputs": [
    {
     "data": {
      "text/plain": [
       "[3, 5, 2, 4, 1]"
      ]
     },
     "execution_count": 97,
     "metadata": {},
     "output_type": "execute_result"
    }
   ],
   "source": [
    "# 45\n",
    "arr = [1, 2, 3, 4, 5]\n",
    "np.random.shuffle(arr)\n",
    "arr"
   ]
  },
  {
   "cell_type": "code",
   "execution_count": 98,
   "id": "6bf0a88b-0ad7-414f-bbca-4794a97204ed",
   "metadata": {},
   "outputs": [
    {
     "data": {
      "text/plain": [
       "0"
      ]
     },
     "execution_count": 98,
     "metadata": {},
     "output_type": "execute_result"
    }
   ],
   "source": [
    "# 46\n",
    "arr = np.array([1, 2, 3, 4, 5])\n",
    "np.argmin(arr)"
   ]
  },
  {
   "cell_type": "code",
   "execution_count": 99,
   "id": "980d2737-a2c7-4890-82da-a0c851eb8605",
   "metadata": {},
   "outputs": [
    {
     "data": {
      "text/plain": [
       "4"
      ]
     },
     "execution_count": 99,
     "metadata": {},
     "output_type": "execute_result"
    }
   ],
   "source": [
    "# 47\n",
    "np.argmax(arr)"
   ]
  },
  {
   "cell_type": "code",
   "execution_count": 100,
   "id": "17542d9d-eeae-4204-929b-f83afb6c3b8b",
   "metadata": {},
   "outputs": [
    {
     "data": {
      "text/plain": [
       "array([1, 2, 3, 4, 5, 6, 7, 8])"
      ]
     },
     "execution_count": 100,
     "metadata": {},
     "output_type": "execute_result"
    }
   ],
   "source": [
    "# 48\n",
    "arr = np.array([2, 1, 5, 3, 7, 4, 6, 8])\n",
    "np.sort(arr)"
   ]
  },
  {
   "cell_type": "code",
   "execution_count": 102,
   "id": "7b27fc44-cddb-40dd-ae49-98a5f2acaea2",
   "metadata": {},
   "outputs": [
    {
     "data": {
      "text/plain": [
       "array([[1, 2],\n",
       "       [3, 4]])"
      ]
     },
     "execution_count": 102,
     "metadata": {},
     "output_type": "execute_result"
    }
   ],
   "source": [
    "# 49\n",
    "arr1 = np.array([1, 2])\n",
    "arr2 = np.array([3, 4])\n",
    "np.vstack((arr1, arr2))"
   ]
  },
  {
   "cell_type": "code",
   "execution_count": 104,
   "id": "6e338edd-4597-4354-97bf-8fcd10ed7586",
   "metadata": {},
   "outputs": [
    {
     "data": {
      "text/plain": [
       "array([1, 2, 3, 4])"
      ]
     },
     "execution_count": 104,
     "metadata": {},
     "output_type": "execute_result"
    }
   ],
   "source": [
    "# 50\n",
    "arr = np.array([[1, 2], [3, 4]])\n",
    "np.ndarray.flatten(arr)"
   ]
  },
  {
   "cell_type": "code",
   "execution_count": null,
   "id": "1bec51c2-68b2-4f68-99de-5c1fbf14e2b7",
   "metadata": {},
   "outputs": [],
   "source": []
  }
 ],
 "metadata": {
  "kernelspec": {
   "display_name": "Python 3 (ipykernel)",
   "language": "python",
   "name": "python3"
  },
  "language_info": {
   "codemirror_mode": {
    "name": "ipython",
    "version": 3
   },
   "file_extension": ".py",
   "mimetype": "text/x-python",
   "name": "python",
   "nbconvert_exporter": "python",
   "pygments_lexer": "ipython3",
   "version": "3.10.0"
  }
 },
 "nbformat": 4,
 "nbformat_minor": 5
}
