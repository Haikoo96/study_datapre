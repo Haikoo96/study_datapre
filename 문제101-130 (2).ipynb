{
 "cells": [
  {
   "cell_type": "markdown",
   "id": "00e2a739-90a9-4f13-8752-d518ea5f0c3b",
   "metadata": {},
   "source": [
    "## 문제 101~110"
   ]
  },
  {
   "cell_type": "code",
   "execution_count": 16,
   "id": "82e0cccf-8a02-48fc-8497-ce7f10e49350",
   "metadata": {},
   "outputs": [],
   "source": [
    "import pandas as pd\n",
    "from pandas import Series "
   ]
  },
  {
   "cell_type": "code",
   "execution_count": 17,
   "id": "ddc2d947-d262-40e2-91eb-f63179641a1c",
   "metadata": {},
   "outputs": [
    {
     "data": {
      "text/plain": [
       "364800"
      ]
     },
     "execution_count": 17,
     "metadata": {},
     "output_type": "execute_result"
    }
   ],
   "source": [
    "# 101\n",
    "data = {\n",
    "    \"2020-12-11\": 73400,\n",
    "    \"2020-12-10\": 72900,\n",
    "    \"2020-12-09\": 73900,\n",
    "    \"2020-12-08\": 71700,\n",
    "    \"2020-12-07\": 72900\n",
    "}\n",
    "s = Series(data)\n",
    "s.sum()"
   ]
  },
  {
   "cell_type": "code",
   "execution_count": 18,
   "id": "057af283-ed89-4beb-b0d8-11fc01650169",
   "metadata": {},
   "outputs": [
    {
     "data": {
      "text/plain": [
       "72960.0"
      ]
     },
     "execution_count": 18,
     "metadata": {},
     "output_type": "execute_result"
    }
   ],
   "source": [
    "# 102\n",
    "s.mean()"
   ]
  },
  {
   "cell_type": "code",
   "execution_count": 19,
   "id": "b426d183-6a16-48a2-be2f-8159731d023c",
   "metadata": {},
   "outputs": [
    {
     "name": "stdout",
     "output_type": "stream",
     "text": [
      "73900\n",
      "71700\n"
     ]
    }
   ],
   "source": [
    "# 103\n",
    "print(s.max())\n",
    "print(s.min())"
   ]
  },
  {
   "cell_type": "code",
   "execution_count": 20,
   "id": "80e08fd1-7193-4781-a0ab-db8bcb1599ef",
   "metadata": {},
   "outputs": [
    {
     "data": {
      "text/plain": [
       "2020-12-11         NaN\n",
       "2020-12-10   -0.006812\n",
       "2020-12-09    0.013717\n",
       "2020-12-08   -0.029770\n",
       "2020-12-07    0.016736\n",
       "dtype: float64"
      ]
     },
     "execution_count": 20,
     "metadata": {},
     "output_type": "execute_result"
    }
   ],
   "source": [
    "# 104\n",
    "s.pct_change()"
   ]
  },
  {
   "cell_type": "code",
   "execution_count": 21,
   "id": "d2b43a8f-5d82-4cd9-8d7e-7ae90aa8e381",
   "metadata": {},
   "outputs": [
    {
     "data": {
      "text/plain": [
       "1.05049494"
      ]
     },
     "execution_count": 21,
     "metadata": {},
     "output_type": "execute_result"
    }
   ],
   "source": [
    "# 105\n",
    "ratio = [1.01, 0.99, 1.03, 1.02, 1]\n",
    "date = ['2020-12-11', '2020-12-10', '2020-12-09', '2020-12-08', '2020-12-07']\n",
    "s = Series(ratio, index=date)\n",
    "s.product()"
   ]
  },
  {
   "cell_type": "code",
   "execution_count": 22,
   "id": "d2a16877-3e19-4199-8ca9-e265e3c08b58",
   "metadata": {},
   "outputs": [
    {
     "data": {
      "text/plain": [
       "2020-12-11    1.01\n",
       "2020-12-10    1.01\n",
       "2020-12-09    1.03\n",
       "2020-12-08    1.03\n",
       "2020-12-07    1.03\n",
       "dtype: float64"
      ]
     },
     "execution_count": 22,
     "metadata": {},
     "output_type": "execute_result"
    }
   ],
   "source": [
    "# 106\n",
    "s.cummax()"
   ]
  },
  {
   "cell_type": "code",
   "execution_count": 23,
   "id": "ef01e8ab-720d-4cdb-bd7c-99135b0b76ea",
   "metadata": {},
   "outputs": [
    {
     "data": {
      "text/plain": [
       "2020-12-11    1.01\n",
       "2020-12-10    0.99\n",
       "2020-12-09    0.99\n",
       "2020-12-08    0.99\n",
       "2020-12-07    0.99\n",
       "dtype: float64"
      ]
     },
     "execution_count": 23,
     "metadata": {},
     "output_type": "execute_result"
    }
   ],
   "source": [
    "# 107\n",
    "s.cummin()"
   ]
  },
  {
   "cell_type": "code",
   "execution_count": 24,
   "id": "66b13036-be4e-4b74-8bbb-2a9bb668b3ab",
   "metadata": {},
   "outputs": [
    {
     "data": {
      "text/plain": [
       "2020-12-11    1.010000\n",
       "2020-12-10    0.999900\n",
       "2020-12-09    1.029897\n",
       "2020-12-08    1.050495\n",
       "2020-12-07    1.050495\n",
       "dtype: float64"
      ]
     },
     "execution_count": 24,
     "metadata": {},
     "output_type": "execute_result"
    }
   ],
   "source": [
    "# 108\n",
    "s.cumprod()"
   ]
  },
  {
   "cell_type": "code",
   "execution_count": 25,
   "id": "97c26312-766f-4070-a192-d2ec7c3ffdc1",
   "metadata": {},
   "outputs": [
    {
     "ename": "TypeError",
     "evalue": "NDFrame.rolling() missing 1 required positional argument: 'window'",
     "output_type": "error",
     "traceback": [
      "\u001b[1;31m---------------------------------------------------------------------------\u001b[0m",
      "\u001b[1;31mTypeError\u001b[0m                                 Traceback (most recent call last)",
      "Cell \u001b[1;32mIn[25], line 2\u001b[0m\n\u001b[0;32m      1\u001b[0m \u001b[38;5;66;03m# 109\u001b[39;00m\n\u001b[1;32m----> 2\u001b[0m \u001b[43ms\u001b[49m\u001b[38;5;241;43m.\u001b[39;49m\u001b[43mrolling\u001b[49m\u001b[43m(\u001b[49m\u001b[43m)\u001b[49m\n",
      "\u001b[1;31mTypeError\u001b[0m: NDFrame.rolling() missing 1 required positional argument: 'window'"
     ]
    }
   ],
   "source": [
    "# 109\n",
    "s.rolling()"
   ]
  },
  {
   "cell_type": "markdown",
   "id": "f67098c7-166b-45ca-a9fe-1873d57ec687",
   "metadata": {},
   "source": [
    "## 문제 111~120"
   ]
  },
  {
   "cell_type": "code",
   "execution_count": 26,
   "id": "2332c26d-0d57-488c-b082-ad3d0b4a3f0b",
   "metadata": {},
   "outputs": [
    {
     "data": {
      "text/plain": [
       "5"
      ]
     },
     "execution_count": 26,
     "metadata": {},
     "output_type": "execute_result"
    }
   ],
   "source": [
    "# 111\n",
    "import numpy as np\n",
    "\n",
    "data = [1, 2, 3, 4, np.nan]\n",
    "s = Series(data=data)\n",
    "s.notnull().count()"
   ]
  },
  {
   "cell_type": "code",
   "execution_count": 27,
   "id": "2e1d8a75-72e4-40dd-b44f-4f3826c35c35",
   "metadata": {},
   "outputs": [
    {
     "name": "stdout",
     "output_type": "stream",
     "text": [
      "1\n"
     ]
    }
   ],
   "source": [
    "# 111 answer\n",
    "print(s.isna().sum())"
   ]
  },
  {
   "cell_type": "code",
   "execution_count": 28,
   "id": "9c6fe7b1-289d-4fa2-a072-2eaf5a6f5116",
   "metadata": {},
   "outputs": [
    {
     "data": {
      "text/plain": [
       "철수    100\n",
       "영희    200\n",
       "아름    300\n",
       "dtype: int32"
      ]
     },
     "execution_count": 28,
     "metadata": {},
     "output_type": "execute_result"
    }
   ],
   "source": [
    "# 112\n",
    "data = [\"100\", \"200\", \"300\"]\n",
    "index = [\"철수\", \"영희\", \"아름\"]\n",
    "s = Series(data, index)\n",
    "s.astype('int32')"
   ]
  },
  {
   "cell_type": "code",
   "execution_count": 37,
   "id": "26cb1651-1859-4566-8dde-dbf95a8e81d9",
   "metadata": {},
   "outputs": [
    {
     "data": {
      "text/plain": [
       "김대리    30\n",
       "이과장    40\n",
       "박차장    50\n",
       "dtype: int32"
      ]
     },
     "execution_count": 37,
     "metadata": {},
     "output_type": "execute_result"
    }
   ],
   "source": [
    "# 113\n",
    "s = pd.Series([\"30세\", \"40세\", \"50세\"], index=[\"김대리\", \"이과장\", \"박차장\"])\n",
    "s.replace([\"30세\", \"40세\", \"50세\"], [30, 40, 50], inplace=True)\n",
    "s.astype(np.int32)"
   ]
  },
  {
   "cell_type": "code",
   "execution_count": 39,
   "id": "ff6886c5-7684-4670-bffe-c061a301fe29",
   "metadata": {},
   "outputs": [
    {
     "data": {
      "text/plain": [
       "김대리    30\n",
       "이과장    40\n",
       "박차장    50\n",
       "dtype: int32"
      ]
     },
     "execution_count": 39,
     "metadata": {},
     "output_type": "execute_result"
    }
   ],
   "source": [
    "# 113 answer\n",
    "s = pd.Series([\"30세\", \"40세\", \"50세\"], index=[\"김대리\", \"이과장\", \"박차장\"])\n",
    "s1 = s.str.replace('세', '')\n",
    "s1.astype(\"int32\")"
   ]
  },
  {
   "cell_type": "code",
   "execution_count": 40,
   "id": "e9ad8ce4-4813-42f8-8486-9ad82eeef64b",
   "metadata": {},
   "outputs": [
    {
     "data": {
      "text/plain": [
       "김대리    30\n",
       "이과장    40\n",
       "박차장    50\n",
       "dtype: int32"
      ]
     },
     "execution_count": 40,
     "metadata": {},
     "output_type": "execute_result"
    }
   ],
   "source": [
    "# 113 answer\n",
    "s1 = s.replace('세', '', regex=True)\n",
    "s1.astype(\"int32\")"
   ]
  },
  {
   "cell_type": "code",
   "execution_count": 42,
   "id": "dce3a67b-3584-4e0d-a0d0-d40d0f1fb8d8",
   "metadata": {},
   "outputs": [
    {
     "data": {
      "text/plain": [
       "김대리    30\n",
       "이과장    40\n",
       "박차장    50\n",
       "dtype: int32"
      ]
     },
     "execution_count": 42,
     "metadata": {},
     "output_type": "execute_result"
    }
   ],
   "source": [
    "# 114\n",
    "s1 = s.str[:-1]\n",
    "s1 = s1.astype('int32')\n",
    "s1"
   ]
  },
  {
   "cell_type": "code",
   "execution_count": 43,
   "id": "34975c3a-dd67-4967-835f-52abeaa48e02",
   "metadata": {},
   "outputs": [
    {
     "data": {
      "text/plain": [
       "a    3\n",
       "b    4\n",
       "c    2\n",
       "d    1\n",
       "dtype: int64"
      ]
     },
     "execution_count": 43,
     "metadata": {},
     "output_type": "execute_result"
    }
   ],
   "source": [
    "# 115\n",
    "s = pd.Series([1, 2, 3, 4], index=[\"d\", \"c\", \"a\", \"b\"])\n",
    "s.reindex(['a', 'b', 'c', 'd'])"
   ]
  },
  {
   "cell_type": "code",
   "execution_count": 46,
   "id": "b40e77f6-01dd-4e52-b175-0d0adda7b270",
   "metadata": {},
   "outputs": [
    {
     "data": {
      "text/plain": [
       "01-01   NaN\n",
       "01-02   NaN\n",
       "01-03   NaN\n",
       "dtype: float64"
      ]
     },
     "execution_count": 46,
     "metadata": {},
     "output_type": "execute_result"
    }
   ],
   "source": [
    "# 116\n",
    "s = pd.Series([1, 2, 3], index=['2023-01-01', '2023-01-02', '2023-01-03'])\n",
    "s.reindex(s.index.str[5:])"
   ]
  },
  {
   "cell_type": "code",
   "execution_count": 49,
   "id": "80b8ca9e-e4cd-4b33-93c9-aa7d53499c87",
   "metadata": {},
   "outputs": [],
   "source": [
    "# 116 answer\n",
    "s.index = s.index.str[5:]"
   ]
  },
  {
   "cell_type": "code",
   "execution_count": 51,
   "id": "bc846229-25ba-4cc6-96ea-7a425f5471ad",
   "metadata": {},
   "outputs": [
    {
     "ename": "AttributeError",
     "evalue": "'Index' object has no attribute 'type'",
     "output_type": "error",
     "traceback": [
      "\u001b[1;31m---------------------------------------------------------------------------\u001b[0m",
      "\u001b[1;31mAttributeError\u001b[0m                            Traceback (most recent call last)",
      "Cell \u001b[1;32mIn[51], line 3\u001b[0m\n\u001b[0;32m      1\u001b[0m \u001b[38;5;66;03m# 117\u001b[39;00m\n\u001b[0;32m      2\u001b[0m s \u001b[38;5;241m=\u001b[39m pd\u001b[38;5;241m.\u001b[39mSeries([\u001b[38;5;241m1\u001b[39m, \u001b[38;5;241m2\u001b[39m, \u001b[38;5;241m3\u001b[39m], index\u001b[38;5;241m=\u001b[39m[\u001b[38;5;124m'\u001b[39m\u001b[38;5;124m2023-01-01\u001b[39m\u001b[38;5;124m'\u001b[39m, \u001b[38;5;124m'\u001b[39m\u001b[38;5;124m2023-01-02\u001b[39m\u001b[38;5;124m'\u001b[39m, \u001b[38;5;124m'\u001b[39m\u001b[38;5;124m2023-01-03\u001b[39m\u001b[38;5;124m'\u001b[39m])\n\u001b[1;32m----> 3\u001b[0m \u001b[43ms\u001b[49m\u001b[38;5;241;43m.\u001b[39;49m\u001b[43mindex\u001b[49m\u001b[38;5;241;43m.\u001b[39;49m\u001b[43mtype\u001b[49m\n",
      "\u001b[1;31mAttributeError\u001b[0m: 'Index' object has no attribute 'type'"
     ]
    }
   ],
   "source": [
    "# 117\n",
    "s = pd.Series([1, 2, 3], index=['2023-01-01', '2023-01-02', '2023-01-03'])\n",
    "s.index."
   ]
  },
  {
   "cell_type": "code",
   "execution_count": 52,
   "id": "e2375ba6-be7d-4572-bc99-76fb8f943b09",
   "metadata": {},
   "outputs": [
    {
     "ename": "AttributeError",
     "evalue": "module 'pandas' has no attribute 'to_timestamp'",
     "output_type": "error",
     "traceback": [
      "\u001b[1;31m---------------------------------------------------------------------------\u001b[0m",
      "\u001b[1;31mAttributeError\u001b[0m                            Traceback (most recent call last)",
      "Cell \u001b[1;32mIn[52], line 2\u001b[0m\n\u001b[0;32m      1\u001b[0m \u001b[38;5;66;03m# 117 answer\u001b[39;00m\n\u001b[1;32m----> 2\u001b[0m s\u001b[38;5;241m.\u001b[39mindex \u001b[38;5;241m=\u001b[39m \u001b[43mpd\u001b[49m\u001b[38;5;241;43m.\u001b[39;49m\u001b[43mto_timestamp\u001b[49m(s\u001b[38;5;241m.\u001b[39mindex)\n",
      "\u001b[1;31mAttributeError\u001b[0m: module 'pandas' has no attribute 'to_timestamp'"
     ]
    }
   ],
   "source": [
    "# 117 answer\n",
    "s.index = pd.to_timestamp(s.index)"
   ]
  },
  {
   "cell_type": "code",
   "execution_count": 53,
   "id": "6317cda6-01f7-4cad-bf18-0a3d01ccf2e0",
   "metadata": {},
   "outputs": [
    {
     "data": {
      "text/plain": [
       "0    1.0\n",
       "1    2.0\n",
       "2    3.0\n",
       "dtype: float64"
      ]
     },
     "execution_count": 53,
     "metadata": {},
     "output_type": "execute_result"
    }
   ],
   "source": [
    "# 118\n",
    "s = pd.Series([1, 2, 3, np.nan])\n",
    "s.dropna()"
   ]
  },
  {
   "cell_type": "code",
   "execution_count": 54,
   "id": "bcd1581b-6671-4347-8604-bb2f2bcc1194",
   "metadata": {},
   "outputs": [
    {
     "data": {
      "text/plain": [
       "0    1234\n",
       "1    5678\n",
       "2    9876\n",
       "dtype: object"
      ]
     },
     "execution_count": 54,
     "metadata": {},
     "output_type": "execute_result"
    }
   ],
   "source": [
    "# 119\n",
    "s = pd.Series([\"1,234\", \"5,678\", \"9,876\"])\n",
    "s.map(lambda x: x.replace(\",\", \"\"))"
   ]
  },
  {
   "cell_type": "code",
   "execution_count": 55,
   "id": "b917df46-5970-4712-ba56-31abe0ac79d4",
   "metadata": {},
   "outputs": [
    {
     "data": {
      "text/plain": [
       "0    1.0\n",
       "1    2.0\n",
       "2    3.0\n",
       "dtype: float64"
      ]
     },
     "execution_count": 55,
     "metadata": {},
     "output_type": "execute_result"
    }
   ],
   "source": [
    "# 120\n",
    "s = pd.Series([10, 100, 1000])\n",
    "s.apply(lambda x: np.log10(x))"
   ]
  },
  {
   "cell_type": "markdown",
   "id": "0e7a7799-9f5f-44b0-bda5-023d535fef7b",
   "metadata": {},
   "source": [
    "# 문제 121~130"
   ]
  },
  {
   "cell_type": "code",
   "execution_count": 56,
   "id": "e7e5e802-8b7a-4447-95af-4110d46aff42",
   "metadata": {},
   "outputs": [
    {
     "data": {
      "text/plain": [
       "0    1.0\n",
       "1    2.0\n",
       "2    3.0\n",
       "3    4.0\n",
       "dtype: float64"
      ]
     },
     "execution_count": 56,
     "metadata": {},
     "output_type": "execute_result"
    }
   ],
   "source": [
    "# 121\n",
    "data = [1, 2, 3, 4, np.nan]\n",
    "s = Series(data=data)\n",
    "s.dropna()"
   ]
  },
  {
   "cell_type": "code",
   "execution_count": 57,
   "id": "233519c8-5231-484d-9016-3d4e0dfc640c",
   "metadata": {},
   "outputs": [
    {
     "data": {
      "text/plain": [
       "9    10\n",
       "8     9\n",
       "7     8\n",
       "dtype: int64"
      ]
     },
     "execution_count": 57,
     "metadata": {},
     "output_type": "execute_result"
    }
   ],
   "source": [
    "# 122\n",
    "from pandas import Series\n",
    "\n",
    "data = range(1, 11)\n",
    "s = Series(data=data)\n",
    "s.nlargest(3)"
   ]
  },
  {
   "cell_type": "code",
   "execution_count": 58,
   "id": "5a89dde5-8afe-4fda-b452-3e2f45e4a54b",
   "metadata": {},
   "outputs": [
    {
     "data": {
      "text/plain": [
       "0    1\n",
       "1    2\n",
       "2    3\n",
       "dtype: int64"
      ]
     },
     "execution_count": 58,
     "metadata": {},
     "output_type": "execute_result"
    }
   ],
   "source": [
    "# 123\n",
    "from pandas import Series\n",
    "\n",
    "data = range(1, 11)\n",
    "s = Series(data=data)\n",
    "s.nsmallest(3)"
   ]
  },
  {
   "cell_type": "code",
   "execution_count": 61,
   "id": "8a3d66f0-09bb-4a59-91b6-7b074dfd9087",
   "metadata": {},
   "outputs": [
    {
     "data": {
      "text/plain": [
       "0    2020\n",
       "1    2021\n",
       "2    2022\n",
       "dtype: int32"
      ]
     },
     "execution_count": 61,
     "metadata": {},
     "output_type": "execute_result"
    }
   ],
   "source": [
    "# 124\n",
    "import pandas as pd\n",
    "\n",
    "data = pd.to_datetime( ['20200101', '20210101', '20220101'] )\n",
    "s = pd.Series( data)\n",
    "s.dt.year"
   ]
  },
  {
   "cell_type": "code",
   "execution_count": 62,
   "id": "beff0ee9-8f2a-45b3-afcb-82ae752c7d93",
   "metadata": {},
   "outputs": [
    {
     "data": {
      "text/plain": [
       "0    1\n",
       "1    1\n",
       "2    1\n",
       "dtype: int32"
      ]
     },
     "execution_count": 62,
     "metadata": {},
     "output_type": "execute_result"
    }
   ],
   "source": [
    "# 125\n",
    "s.dt.day"
   ]
  },
  {
   "cell_type": "code",
   "execution_count": 64,
   "id": "79a3b3a5-fa64-4c62-83a2-d93f1d97681c",
   "metadata": {},
   "outputs": [
    {
     "data": {
      "text/plain": [
       "2020-01-01    100\n",
       "2021-01-01    200\n",
       "2022-01-01    300\n",
       "dtype: int64"
      ]
     },
     "execution_count": 64,
     "metadata": {},
     "output_type": "execute_result"
    }
   ],
   "source": [
    "# 126\n",
    "import pandas as pd\n",
    "\n",
    "index = pd.to_datetime( ['20200101', '20210101', '20220101'] )\n",
    "data = [100, 200, 300]\n",
    "s = pd.Series(data=data, index=index)\n",
    "s"
   ]
  },
  {
   "cell_type": "code",
   "execution_count": 65,
   "id": "e674acee-730b-43d8-acf8-1cb7cbdb37d3",
   "metadata": {},
   "outputs": [
    {
     "data": {
      "text/plain": [
       "Index([2020, 2021, 2022], dtype='int32')"
      ]
     },
     "execution_count": 65,
     "metadata": {},
     "output_type": "execute_result"
    }
   ],
   "source": [
    "# 126\n",
    "s.index.year"
   ]
  },
  {
   "cell_type": "code",
   "execution_count": 66,
   "id": "36c38415-4b21-4829-886b-f3136ddaa6ca",
   "metadata": {},
   "outputs": [
    {
     "data": {
      "text/plain": [
       "Index([1, 1, 1], dtype='int32')"
      ]
     },
     "execution_count": 66,
     "metadata": {},
     "output_type": "execute_result"
    }
   ],
   "source": [
    "s.index.month"
   ]
  },
  {
   "cell_type": "code",
   "execution_count": 67,
   "id": "788b656e-3b06-4f51-ae5c-17792fb3fc9b",
   "metadata": {},
   "outputs": [
    {
     "data": {
      "text/plain": [
       "Index([1, 1, 1], dtype='int32')"
      ]
     },
     "execution_count": 67,
     "metadata": {},
     "output_type": "execute_result"
    }
   ],
   "source": [
    "s.index.day"
   ]
  },
  {
   "cell_type": "code",
   "execution_count": 72,
   "id": "9b4e34b7-5b8d-4dc5-9cae-c7db4ee5ef78",
   "metadata": {},
   "outputs": [
    {
     "ename": "TypeError",
     "evalue": "Index(...) must be called with a collection of some kind, <bound method DatetimeIndex.strftime of DatetimeIndex(['2020-01-01', '2021-01-01', '2022-01-01'], dtype='datetime64[ns]', freq=None)> was passed",
     "output_type": "error",
     "traceback": [
      "\u001b[1;31m---------------------------------------------------------------------------\u001b[0m",
      "\u001b[1;31mTypeError\u001b[0m                                 Traceback (most recent call last)",
      "Cell \u001b[1;32mIn[72], line 2\u001b[0m\n\u001b[0;32m      1\u001b[0m \u001b[38;5;66;03m# 127\u001b[39;00m\n\u001b[1;32m----> 2\u001b[0m \u001b[43ms\u001b[49m\u001b[38;5;241;43m.\u001b[39;49m\u001b[43mindex\u001b[49m \u001b[38;5;241m=\u001b[39m s\u001b[38;5;241m.\u001b[39mindex\u001b[38;5;241m.\u001b[39mstrftime\n",
      "File \u001b[1;32m~\\AppData\\Local\\Programs\\Python\\Python311\\Lib\\site-packages\\pandas\\core\\generic.py:6218\u001b[0m, in \u001b[0;36mNDFrame.__setattr__\u001b[1;34m(self, name, value)\u001b[0m\n\u001b[0;32m   6216\u001b[0m \u001b[38;5;28;01mtry\u001b[39;00m:\n\u001b[0;32m   6217\u001b[0m     \u001b[38;5;28mobject\u001b[39m\u001b[38;5;241m.\u001b[39m\u001b[38;5;21m__getattribute__\u001b[39m(\u001b[38;5;28mself\u001b[39m, name)\n\u001b[1;32m-> 6218\u001b[0m     \u001b[38;5;28;01mreturn\u001b[39;00m \u001b[38;5;28;43mobject\u001b[39;49m\u001b[38;5;241;43m.\u001b[39;49m\u001b[38;5;21;43m__setattr__\u001b[39;49m\u001b[43m(\u001b[49m\u001b[38;5;28;43mself\u001b[39;49m\u001b[43m,\u001b[49m\u001b[43m \u001b[49m\u001b[43mname\u001b[49m\u001b[43m,\u001b[49m\u001b[43m \u001b[49m\u001b[43mvalue\u001b[49m\u001b[43m)\u001b[49m\n\u001b[0;32m   6219\u001b[0m \u001b[38;5;28;01mexcept\u001b[39;00m \u001b[38;5;167;01mAttributeError\u001b[39;00m:\n\u001b[0;32m   6220\u001b[0m     \u001b[38;5;28;01mpass\u001b[39;00m\n",
      "File \u001b[1;32mproperties.pyx:69\u001b[0m, in \u001b[0;36mpandas._libs.properties.AxisProperty.__set__\u001b[1;34m()\u001b[0m\n",
      "File \u001b[1;32m~\\AppData\\Local\\Programs\\Python\\Python311\\Lib\\site-packages\\pandas\\core\\generic.py:766\u001b[0m, in \u001b[0;36mNDFrame._set_axis\u001b[1;34m(self, axis, labels)\u001b[0m\n\u001b[0;32m    760\u001b[0m \u001b[38;5;129m@final\u001b[39m\n\u001b[0;32m    761\u001b[0m \u001b[38;5;28;01mdef\u001b[39;00m \u001b[38;5;21m_set_axis\u001b[39m(\u001b[38;5;28mself\u001b[39m, axis: AxisInt, labels: AnyArrayLike \u001b[38;5;241m|\u001b[39m \u001b[38;5;28mlist\u001b[39m) \u001b[38;5;241m-\u001b[39m\u001b[38;5;241m>\u001b[39m \u001b[38;5;28;01mNone\u001b[39;00m:\n\u001b[0;32m    762\u001b[0m \u001b[38;5;250m    \u001b[39m\u001b[38;5;124;03m\"\"\"\u001b[39;00m\n\u001b[0;32m    763\u001b[0m \u001b[38;5;124;03m    This is called from the cython code when we set the `index` attribute\u001b[39;00m\n\u001b[0;32m    764\u001b[0m \u001b[38;5;124;03m    directly, e.g. `series.index = [1, 2, 3]`.\u001b[39;00m\n\u001b[0;32m    765\u001b[0m \u001b[38;5;124;03m    \"\"\"\u001b[39;00m\n\u001b[1;32m--> 766\u001b[0m     labels \u001b[38;5;241m=\u001b[39m \u001b[43mensure_index\u001b[49m\u001b[43m(\u001b[49m\u001b[43mlabels\u001b[49m\u001b[43m)\u001b[49m\n\u001b[0;32m    767\u001b[0m     \u001b[38;5;28mself\u001b[39m\u001b[38;5;241m.\u001b[39m_mgr\u001b[38;5;241m.\u001b[39mset_axis(axis, labels)\n\u001b[0;32m    768\u001b[0m     \u001b[38;5;28mself\u001b[39m\u001b[38;5;241m.\u001b[39m_clear_item_cache()\n",
      "File \u001b[1;32m~\\AppData\\Local\\Programs\\Python\\Python311\\Lib\\site-packages\\pandas\\core\\indexes\\base.py:7568\u001b[0m, in \u001b[0;36mensure_index\u001b[1;34m(index_like, copy)\u001b[0m\n\u001b[0;32m   7566\u001b[0m         \u001b[38;5;28;01mreturn\u001b[39;00m Index(index_like, copy\u001b[38;5;241m=\u001b[39mcopy, tupleize_cols\u001b[38;5;241m=\u001b[39m\u001b[38;5;28;01mFalse\u001b[39;00m)\n\u001b[0;32m   7567\u001b[0m \u001b[38;5;28;01melse\u001b[39;00m:\n\u001b[1;32m-> 7568\u001b[0m     \u001b[38;5;28;01mreturn\u001b[39;00m \u001b[43mIndex\u001b[49m\u001b[43m(\u001b[49m\u001b[43mindex_like\u001b[49m\u001b[43m,\u001b[49m\u001b[43m \u001b[49m\u001b[43mcopy\u001b[49m\u001b[38;5;241;43m=\u001b[39;49m\u001b[43mcopy\u001b[49m\u001b[43m)\u001b[49m\n",
      "File \u001b[1;32m~\\AppData\\Local\\Programs\\Python\\Python311\\Lib\\site-packages\\pandas\\core\\indexes\\base.py:530\u001b[0m, in \u001b[0;36mIndex.__new__\u001b[1;34m(cls, data, dtype, copy, name, tupleize_cols)\u001b[0m\n\u001b[0;32m    526\u001b[0m     \u001b[38;5;28;01mreturn\u001b[39;00m Index(np\u001b[38;5;241m.\u001b[39masarray(data), dtype\u001b[38;5;241m=\u001b[39mdtype, copy\u001b[38;5;241m=\u001b[39mcopy, name\u001b[38;5;241m=\u001b[39mname)\n\u001b[0;32m    527\u001b[0m \u001b[38;5;28;01melif\u001b[39;00m \u001b[38;5;129;01mnot\u001b[39;00m is_list_like(data) \u001b[38;5;129;01mand\u001b[39;00m \u001b[38;5;129;01mnot\u001b[39;00m \u001b[38;5;28misinstance\u001b[39m(data, \u001b[38;5;28mmemoryview\u001b[39m):\n\u001b[0;32m    528\u001b[0m     \u001b[38;5;66;03m# 2022-11-16 the memoryview check is only necessary on some CI\u001b[39;00m\n\u001b[0;32m    529\u001b[0m     \u001b[38;5;66;03m#  builds, not clear why\u001b[39;00m\n\u001b[1;32m--> 530\u001b[0m     \u001b[38;5;28;01mraise\u001b[39;00m \u001b[38;5;28;43mcls\u001b[39;49m\u001b[38;5;241;43m.\u001b[39;49m\u001b[43m_raise_scalar_data_error\u001b[49m\u001b[43m(\u001b[49m\u001b[43mdata\u001b[49m\u001b[43m)\u001b[49m\n\u001b[0;32m    532\u001b[0m \u001b[38;5;28;01melse\u001b[39;00m:\n\u001b[0;32m    533\u001b[0m     \u001b[38;5;28;01mif\u001b[39;00m tupleize_cols:\n\u001b[0;32m    534\u001b[0m         \u001b[38;5;66;03m# GH21470: convert iterable to list before determining if empty\u001b[39;00m\n",
      "File \u001b[1;32m~\\AppData\\Local\\Programs\\Python\\Python311\\Lib\\site-packages\\pandas\\core\\indexes\\base.py:5265\u001b[0m, in \u001b[0;36mIndex._raise_scalar_data_error\u001b[1;34m(cls, data)\u001b[0m\n\u001b[0;32m   5260\u001b[0m \u001b[38;5;129m@final\u001b[39m\n\u001b[0;32m   5261\u001b[0m \u001b[38;5;129m@classmethod\u001b[39m\n\u001b[0;32m   5262\u001b[0m \u001b[38;5;28;01mdef\u001b[39;00m \u001b[38;5;21m_raise_scalar_data_error\u001b[39m(\u001b[38;5;28mcls\u001b[39m, data):\n\u001b[0;32m   5263\u001b[0m     \u001b[38;5;66;03m# We return the TypeError so that we can raise it from the constructor\u001b[39;00m\n\u001b[0;32m   5264\u001b[0m     \u001b[38;5;66;03m#  in order to keep mypy happy\u001b[39;00m\n\u001b[1;32m-> 5265\u001b[0m     \u001b[38;5;28;01mraise\u001b[39;00m \u001b[38;5;167;01mTypeError\u001b[39;00m(\n\u001b[0;32m   5266\u001b[0m         \u001b[38;5;124mf\u001b[39m\u001b[38;5;124m\"\u001b[39m\u001b[38;5;132;01m{\u001b[39;00m\u001b[38;5;28mcls\u001b[39m\u001b[38;5;241m.\u001b[39m\u001b[38;5;18m__name__\u001b[39m\u001b[38;5;132;01m}\u001b[39;00m\u001b[38;5;124m(...) must be called with a collection of some \u001b[39m\u001b[38;5;124m\"\u001b[39m\n\u001b[0;32m   5267\u001b[0m         \u001b[38;5;124mf\u001b[39m\u001b[38;5;124m\"\u001b[39m\u001b[38;5;124mkind, \u001b[39m\u001b[38;5;132;01m{\u001b[39;00m\u001b[38;5;28mrepr\u001b[39m(data)\u001b[38;5;250m \u001b[39m\u001b[38;5;28;01mif\u001b[39;00m\u001b[38;5;250m \u001b[39m\u001b[38;5;129;01mnot\u001b[39;00m\u001b[38;5;250m \u001b[39m\u001b[38;5;28misinstance\u001b[39m(data,\u001b[38;5;250m \u001b[39mnp\u001b[38;5;241m.\u001b[39mgeneric)\u001b[38;5;250m \u001b[39m\u001b[38;5;28;01melse\u001b[39;00m\u001b[38;5;250m \u001b[39m\u001b[38;5;28mstr\u001b[39m(data)\u001b[38;5;132;01m}\u001b[39;00m\u001b[38;5;124m \u001b[39m\u001b[38;5;124m\"\u001b[39m\n\u001b[0;32m   5268\u001b[0m         \u001b[38;5;124m\"\u001b[39m\u001b[38;5;124mwas passed\u001b[39m\u001b[38;5;124m\"\u001b[39m\n\u001b[0;32m   5269\u001b[0m     )\n",
      "\u001b[1;31mTypeError\u001b[0m: Index(...) must be called with a collection of some kind, <bound method DatetimeIndex.strftime of DatetimeIndex(['2020-01-01', '2021-01-01', '2022-01-01'], dtype='datetime64[ns]', freq=None)> was passed"
     ]
    }
   ],
   "source": [
    "# 127\n",
    "s.index = s.index.strftime"
   ]
  },
  {
   "cell_type": "code",
   "execution_count": 73,
   "id": "4b35fddd-50db-4a39-94ee-88f83235c79c",
   "metadata": {},
   "outputs": [
    {
     "data": {
      "text/plain": [
       "Index(['2020-01-01 00:00:00', '2021-01-01 00:00:00', '2022-01-01 00:00:00'], dtype='object')"
      ]
     },
     "execution_count": 73,
     "metadata": {},
     "output_type": "execute_result"
    }
   ],
   "source": [
    "# 127 answer\n",
    "s.index.strftime(\"%Y-%m-%d 00:00:00\")"
   ]
  },
  {
   "cell_type": "code",
   "execution_count": 74,
   "id": "f26f2f63-bcd3-4da1-969f-29342d657710",
   "metadata": {},
   "outputs": [
    {
     "data": {
      "text/plain": [
       "'000020;000040;005930'"
      ]
     },
     "execution_count": 74,
     "metadata": {},
     "output_type": "execute_result"
    }
   ],
   "source": [
    "# 128\n",
    "import pandas as pd\n",
    "\n",
    "s = pd.Series([\"000020\", \"000040\", \"005930\"])\n",
    "s.str.cat(sep=';')"
   ]
  },
  {
   "cell_type": "code",
   "execution_count": 75,
   "id": "bb98aeec-17e2-4e47-9796-14c95bbe005d",
   "metadata": {},
   "outputs": [
    {
     "ename": "AttributeError",
     "evalue": "'Series' object has no attribute 'join'",
     "output_type": "error",
     "traceback": [
      "\u001b[1;31m---------------------------------------------------------------------------\u001b[0m",
      "\u001b[1;31mAttributeError\u001b[0m                            Traceback (most recent call last)",
      "\u001b[1;32m~\\AppData\\Local\\Temp\\ipykernel_4048\\3848609002.py\u001b[0m in \u001b[0;36m?\u001b[1;34m()\u001b[0m\n\u001b[0;32m      1\u001b[0m \u001b[1;31m# 129\u001b[0m\u001b[1;33m\u001b[0m\u001b[1;33m\u001b[0m\u001b[0m\n\u001b[1;32m----> 2\u001b[1;33m \u001b[0ms\u001b[0m\u001b[1;33m.\u001b[0m\u001b[0mjoin\u001b[0m\u001b[1;33m(\u001b[0m\u001b[1;34m'A'\u001b[0m\u001b[1;33m)\u001b[0m\u001b[1;33m\u001b[0m\u001b[1;33m\u001b[0m\u001b[0m\n\u001b[0m",
      "\u001b[1;32m~\\AppData\\Local\\Programs\\Python\\Python311\\Lib\\site-packages\\pandas\\core\\generic.py\u001b[0m in \u001b[0;36m?\u001b[1;34m(self, name)\u001b[0m\n\u001b[0;32m   6200\u001b[0m             \u001b[1;32mand\u001b[0m \u001b[0mname\u001b[0m \u001b[1;32mnot\u001b[0m \u001b[1;32min\u001b[0m \u001b[0mself\u001b[0m\u001b[1;33m.\u001b[0m\u001b[0m_accessors\u001b[0m\u001b[1;33m\u001b[0m\u001b[1;33m\u001b[0m\u001b[0m\n\u001b[0;32m   6201\u001b[0m             \u001b[1;32mand\u001b[0m \u001b[0mself\u001b[0m\u001b[1;33m.\u001b[0m\u001b[0m_info_axis\u001b[0m\u001b[1;33m.\u001b[0m\u001b[0m_can_hold_identifiers_and_holds_name\u001b[0m\u001b[1;33m(\u001b[0m\u001b[0mname\u001b[0m\u001b[1;33m)\u001b[0m\u001b[1;33m\u001b[0m\u001b[1;33m\u001b[0m\u001b[0m\n\u001b[0;32m   6202\u001b[0m         ):\n\u001b[0;32m   6203\u001b[0m             \u001b[1;32mreturn\u001b[0m \u001b[0mself\u001b[0m\u001b[1;33m[\u001b[0m\u001b[0mname\u001b[0m\u001b[1;33m]\u001b[0m\u001b[1;33m\u001b[0m\u001b[1;33m\u001b[0m\u001b[0m\n\u001b[1;32m-> 6204\u001b[1;33m         \u001b[1;32mreturn\u001b[0m \u001b[0mobject\u001b[0m\u001b[1;33m.\u001b[0m\u001b[0m__getattribute__\u001b[0m\u001b[1;33m(\u001b[0m\u001b[0mself\u001b[0m\u001b[1;33m,\u001b[0m \u001b[0mname\u001b[0m\u001b[1;33m)\u001b[0m\u001b[1;33m\u001b[0m\u001b[1;33m\u001b[0m\u001b[0m\n\u001b[0m",
      "\u001b[1;31mAttributeError\u001b[0m: 'Series' object has no attribute 'join'"
     ]
    }
   ],
   "source": [
    "# 129\n",
    "s.join('A')"
   ]
  },
  {
   "cell_type": "code",
   "execution_count": 76,
   "id": "aa7af19b-0a4a-4dda-b0e5-b7652694769c",
   "metadata": {},
   "outputs": [
    {
     "data": {
      "text/plain": [
       "0    A000020\n",
       "1    A000040\n",
       "2    A005930\n",
       "dtype: object"
      ]
     },
     "execution_count": 76,
     "metadata": {},
     "output_type": "execute_result"
    }
   ],
   "source": [
    "'A' + s"
   ]
  },
  {
   "cell_type": "code",
   "execution_count": 77,
   "id": "6c24e814-fe12-49e6-bbb4-70f3da8655e3",
   "metadata": {},
   "outputs": [
    {
     "data": {
      "text/plain": [
       "0    000020\n",
       "1    000040\n",
       "2    005930\n",
       "dtype: object"
      ]
     },
     "execution_count": 77,
     "metadata": {},
     "output_type": "execute_result"
    }
   ],
   "source": [
    "# 130\n",
    "import pandas as pd\n",
    "\n",
    "s = pd.Series([\"20\", \"40\", \"5930\"])\n",
    "s.str.zfill(6)"
   ]
  },
  {
   "cell_type": "code",
   "execution_count": null,
   "id": "406b4039-93ff-4f94-b077-a54ac78ee912",
   "metadata": {},
   "outputs": [],
   "source": []
  }
 ],
 "metadata": {
  "kernelspec": {
   "display_name": "Python 3 (ipykernel)",
   "language": "python",
   "name": "python3"
  },
  "language_info": {
   "codemirror_mode": {
    "name": "ipython",
    "version": 3
   },
   "file_extension": ".py",
   "mimetype": "text/x-python",
   "name": "python",
   "nbconvert_exporter": "python",
   "pygments_lexer": "ipython3",
   "version": "3.11.4"
  }
 },
 "nbformat": 4,
 "nbformat_minor": 5
}
